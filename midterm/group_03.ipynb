{
 "cells": [
  {
   "cell_type": "code",
   "execution_count": 3,
   "id": "cdf186d8",
   "metadata": {},
   "outputs": [
    {
     "name": "stderr",
     "output_type": "stream",
     "text": [
      "C:\\Program Files\\Python311\\python.exe: can't open file 'c:\\\\Users\\\\ADMIN\\\\Documents\\\\codechallen\\\\pip': [Errno 2] No such file or directory\n"
     ]
    }
   ],
   "source": [
    "!py pip install matplotlib.pyplot"
   ]
  },
  {
   "cell_type": "code",
   "execution_count": 2,
   "id": "5783b42f",
   "metadata": {},
   "outputs": [],
   "source": [
    "# 1. import numpy library\n",
    "import numpy as np"
   ]
  },
  {
   "cell_type": "markdown",
   "id": "1e7cbb0f",
   "metadata": {},
   "source": [
    "65070083    Mr. NATTAWAT  WERADECHTAWEEWON    \n",
    "65070039    Miss JERAYA  KITJAROEN              \n",
    "65070068\t Miss NATTAKAMON  JAIMETHA\n",
    "65070154\t Miss PITCHAYA  DUANRAM\n",
    "65070164\t Mr. PHETSIAM  CHONGSAKUL\n",
    "65070251\t Miss ORAYA  CHAIPANYA"
   ]
  },
  {
   "cell_type": "markdown",
   "id": "0cfbba64",
   "metadata": {},
   "source": [
    "# Working with subjectA.csv"
   ]
  },
  {
   "cell_type": "code",
   "execution_count": 3,
   "id": "9a27ef16",
   "metadata": {},
   "outputs": [
    {
     "name": "stdout",
     "output_type": "stream",
     "text": [
      "[['64070016' ' Miss JUTHAMAS  KHWANOLAN' '92.15831559']\n",
      " ['64070110' ' Mr. SUPHAWISH  SOMKLIANG' '93.03003676']\n",
      " ['65070004' ' Mr. KANOKPHOL  DUEANCHAENG' '87.10794717']\n",
      " ['65070006' ' Miss KANOKWAN  UESIRIRUNGRUENG' '66.37927939']\n",
      " ['65070009' ' Mr. KAMOLWICH  THONGSRI' '93.99081741']\n",
      " ['65070010' ' Mr. KITTAMATE  KANNADHEP' '47.46870691']\n",
      " ['65070012' ' Miss GAVINNAR  POONVILYLERZ' '57.38997227']\n",
      " ['65070025' ' Mr. KRERKTHAM  ONLAMOON' '84.81501037']\n",
      " ['65070029' ' Miss KEETAPHAT  SRIPINTA' '93.92534186']\n",
      " ['65070039' ' Miss JERAYA  KITJAROEN' '42.08052701']\n",
      " ['65070043' ' Mr. CHACUTTBUDEE  CHAITAWONKIT' '47.89167655']\n",
      " ['65070044' ' Mr. CHANANYU  LIMCHAROEN' '61.84285189']\n",
      " ['65070045' ' Miss CHANAPAT  KAEWMUNEECHOKE' '43.01171441']\n",
      " ['65070046' ' Mr. CHAYATORN  CHUON' '49.86228616']\n",
      " ['65070049' ' Miss CHALISA  PHOSUEA' '43.43663669']\n",
      " ['65070054' ' Miss YANOUCH  JADSON' '93.40263969']\n",
      " ['65070060' ' Mr. NATHANON  HARNTAWEEPHAT' '66.67505139']\n",
      " ['65070063' ' Miss NAPAT  WANDEE' '72.55591526']\n",
      " ['65070068' ' Miss NATTAKAMON  JAIMETHA' '66.04749688']\n",
      " ['65070075' ' Mr. NATDANAI  VANACHAI' '65.49294642']\n",
      " ['65070080' ' Mr. NATTAPAT  THONGMEEKHWAUN' '90.37333159']\n",
      " ['65070083' ' Mr. NATTAWAT  WERADECHTAWEEWON' '42.30639085']\n",
      " ['65070085' ' Miss NATTAPORN  LOHAKITSANA' '90.90459312']\n",
      " ['65070095' ' Mr. THANAPAT  SAHABANTOENGSIN' '80.17502074']\n",
      " ['65070098' ' Miss THANAPORN  KANLEK' '54.02712246']\n",
      " ['65070105' ' Miss THANYATHON  TANGSRIPRACHIT' '87.59071177']\n",
      " ['65070106' ' Miss THANWARAT  RUEANGRIT' '87.88431361']\n",
      " ['65070107' ' Mr. THITIWUT  MALIWAN' '72.78172848']\n",
      " ['65070120' ' Miss NAMNEUNG  SOOKKHO' '44.99398775']\n",
      " ['65070125' ' Mr. PATIMA  MUANGSUAY' '81.63440117']\n",
      " ['65070134' ' Miss PANNATHORN  KOMKRIS' '52.85279154']\n",
      " ['65070143' ' Miss PHATCHARANAN  KLAYBANDIT' '50.90331362']\n",
      " ['65070151' ' Miss PATCHARAMON  BUNLAUE' '82.54013894']\n",
      " ['65070152' ' Miss PATTEERA  LEECHAT' '48.75759631']\n",
      " ['65070154' ' Miss PITCHAYA  DUANRAM' '48.48411219']\n",
      " ['65070156' ' Miss PIMDAOW  KHAYANKRAN' '70.22253514']\n",
      " ['65070164' ' Mr. PHETSIAM  CHONGSAKUL' '84.42623946']\n",
      " ['65070167' ' Miss PALINEE  WAPEE' '41.18411668']\n",
      " ['65070172' ' Miss PATSORN  JIWAROENGSAWAT' '42.94328985']\n",
      " ['65070173' ' Mr. PAKIN  KITTICHAIKULKIT' '43.17397675']\n",
      " ['65070186' ' Mr. MONGKOL  BOONDAMNOEN' '52.79286356']\n",
      " ['65070192' ' Miss METHAPORN  SOMNUEK' '64.08218952']\n",
      " ['65070198' ' Mr. RAMIN  TUMJINDA' '63.07279735']\n",
      " ['65070207' ' Miss WANWISA  LUENGNARUEMITCHAI' '76.06516819']\n",
      " ['65070210' ' Mr. VISSARUT  HONGTHONG' '80.25654593']\n",
      " ['65070212' ' Miss SASIKAN  CHOTCHAWALKUL' '69.13322461']\n",
      " ['65070213' ' Miss SASITORN  PAKDEERUETAI' '92.80784983']\n",
      " ['65070223' ' Miss SUPAKARN  SUMPATAPAKDEE' '83.18108494']\n",
      " ['65070227' ' Mr. SUPPHAWIT  PERKSUAN' '76.46769346']\n",
      " ['65070234' ' Mr. SUNTIPHAP  THUMMARONG' '56.04025246']\n",
      " ['65070244' ' Miss SURATTANAWADEE  BOONLAI' '60.9166903']\n",
      " ['65070250' ' Mr. APISIT  PIDTATANUNG' '58.85083969']\n",
      " ['65070251' ' Miss ORAYA  CHAIPANYA' '87.38772737']\n",
      " ['65070256' ' Miss ISSARIYAPON  HEYMUN' '55.0287395']]\n"
     ]
    }
   ],
   "source": [
    "# 2. Load subjectA.csv files as numpy array\n",
    "import csv\n",
    "subA = []\n",
    "with open('subjectA.csv',mode='r',newline='') as mycsv:\n",
    "    red = csv.reader(mycsv)\n",
    "    for i in red:\n",
    "        subA.append(i)\n",
    "subA.remove(subA[0])\n",
    "subA = np.array(subA)\n",
    "print(subA)\n"
   ]
  },
  {
   "cell_type": "code",
   "execution_count": 4,
   "id": "bbf9ea4d",
   "metadata": {},
   "outputs": [
    {
     "name": "stdout",
     "output_type": "stream",
     "text": [
      "['64070016' '64070110' '65070004' '65070006' '65070009' '65070010'\n",
      " '65070012' '65070025' '65070029' '65070039' '65070043' '65070044'\n",
      " '65070045' '65070046' '65070049' '65070054' '65070060' '65070063'\n",
      " '65070068' '65070075' '65070080' '65070083' '65070085' '65070095'\n",
      " '65070098' '65070105' '65070106' '65070107' '65070120' '65070125'\n",
      " '65070134' '65070143' '65070151' '65070152' '65070154' '65070156'\n",
      " '65070164' '65070167' '65070172' '65070173' '65070186' '65070192'\n",
      " '65070198' '65070207' '65070210' '65070212' '65070213' '65070223'\n",
      " '65070227' '65070234' '65070244' '65070250' '65070251' '65070256']\n",
      "[' Miss JUTHAMAS  KHWANOLAN' ' Mr. SUPHAWISH  SOMKLIANG'\n",
      " ' Mr. KANOKPHOL  DUEANCHAENG' ' Miss KANOKWAN  UESIRIRUNGRUENG'\n",
      " ' Mr. KAMOLWICH  THONGSRI' ' Mr. KITTAMATE  KANNADHEP'\n",
      " ' Miss GAVINNAR  POONVILYLERZ' ' Mr. KRERKTHAM  ONLAMOON'\n",
      " ' Miss KEETAPHAT  SRIPINTA' ' Miss JERAYA  KITJAROEN'\n",
      " ' Mr. CHACUTTBUDEE  CHAITAWONKIT' ' Mr. CHANANYU  LIMCHAROEN'\n",
      " ' Miss CHANAPAT  KAEWMUNEECHOKE' ' Mr. CHAYATORN  CHUON'\n",
      " ' Miss CHALISA  PHOSUEA' ' Miss YANOUCH  JADSON'\n",
      " ' Mr. NATHANON  HARNTAWEEPHAT' ' Miss NAPAT  WANDEE'\n",
      " ' Miss NATTAKAMON  JAIMETHA' ' Mr. NATDANAI  VANACHAI'\n",
      " ' Mr. NATTAPAT  THONGMEEKHWAUN' ' Mr. NATTAWAT  WERADECHTAWEEWON'\n",
      " ' Miss NATTAPORN  LOHAKITSANA' ' Mr. THANAPAT  SAHABANTOENGSIN'\n",
      " ' Miss THANAPORN  KANLEK' ' Miss THANYATHON  TANGSRIPRACHIT'\n",
      " ' Miss THANWARAT  RUEANGRIT' ' Mr. THITIWUT  MALIWAN'\n",
      " ' Miss NAMNEUNG  SOOKKHO' ' Mr. PATIMA  MUANGSUAY'\n",
      " ' Miss PANNATHORN  KOMKRIS' ' Miss PHATCHARANAN  KLAYBANDIT'\n",
      " ' Miss PATCHARAMON  BUNLAUE' ' Miss PATTEERA  LEECHAT'\n",
      " ' Miss PITCHAYA  DUANRAM' ' Miss PIMDAOW  KHAYANKRAN'\n",
      " ' Mr. PHETSIAM  CHONGSAKUL' ' Miss PALINEE  WAPEE'\n",
      " ' Miss PATSORN  JIWAROENGSAWAT' ' Mr. PAKIN  KITTICHAIKULKIT'\n",
      " ' Mr. MONGKOL  BOONDAMNOEN' ' Miss METHAPORN  SOMNUEK'\n",
      " ' Mr. RAMIN  TUMJINDA' ' Miss WANWISA  LUENGNARUEMITCHAI'\n",
      " ' Mr. VISSARUT  HONGTHONG' ' Miss SASIKAN  CHOTCHAWALKUL'\n",
      " ' Miss SASITORN  PAKDEERUETAI' ' Miss SUPAKARN  SUMPATAPAKDEE'\n",
      " ' Mr. SUPPHAWIT  PERKSUAN' ' Mr. SUNTIPHAP  THUMMARONG'\n",
      " ' Miss SURATTANAWADEE  BOONLAI' ' Mr. APISIT  PIDTATANUNG'\n",
      " ' Miss ORAYA  CHAIPANYA' ' Miss ISSARIYAPON  HEYMUN']\n",
      "[92.15831559 93.03003676 87.10794717 66.37927939 93.99081741 47.46870691\n",
      " 57.38997227 84.81501037 93.92534186 42.08052701 47.89167655 61.84285189\n",
      " 43.01171441 49.86228616 43.43663669 93.40263969 66.67505139 72.55591526\n",
      " 66.04749688 65.49294642 90.37333159 42.30639085 90.90459312 80.17502074\n",
      " 54.02712246 87.59071177 87.88431361 72.78172848 44.99398775 81.63440117\n",
      " 52.85279154 50.90331362 82.54013894 48.75759631 48.48411219 70.22253514\n",
      " 84.42623946 41.18411668 42.94328985 43.17397675 52.79286356 64.08218952\n",
      " 63.07279735 76.06516819 80.25654593 69.13322461 92.80784983 83.18108494\n",
      " 76.46769346 56.04025246 60.9166903  58.85083969 87.38772737 55.0287395 ]\n"
     ]
    }
   ],
   "source": [
    "# 3. Display the array\n",
    "stu_idA = []\n",
    "for i in subA[:,0]:\n",
    "    stu_idA.append(i)\n",
    "name_surA = []\n",
    "for i in subA[:,1]:\n",
    "    name_surA.append(i)\n",
    "score_A = []\n",
    "for i in subA[:,2]:\n",
    "    score_A.append(float(i))\n",
    "stu_idA = np.array(stu_idA)\n",
    "name_surA = np.array(name_surA)\n",
    "score_A = np.array(score_A)\n",
    "print(stu_idA)\n",
    "print(name_surA)\n",
    "print(score_A)"
   ]
  },
  {
   "cell_type": "code",
   "execution_count": 5,
   "id": "a4571486",
   "metadata": {},
   "outputs": [
    {
     "name": "stdout",
     "output_type": "stream",
     "text": [
      "93.99081741\n",
      "41.18411668\n",
      "67.45941757055556\n"
     ]
    }
   ],
   "source": [
    "# 4. Find the maximum,minimum and average score of subject A\n",
    "print(max(score_A))\n",
    "print(min(score_A))\n",
    "print(np.mean(score_A))"
   ]
  },
  {
   "cell_type": "code",
   "execution_count": 6,
   "id": "4b32a288",
   "metadata": {},
   "outputs": [
    {
     "name": "stdout",
     "output_type": "stream",
     "text": [
      "[' Mr. KAMOLWICH  THONGSRI']\n"
     ]
    }
   ],
   "source": [
    "# 5. Print fullname of student with maximum score\n",
    "ind = np.where(score_A == max(score_A))\n",
    "print(name_surA[ind])"
   ]
  },
  {
   "cell_type": "code",
   "execution_count": 7,
   "id": "cda0827a",
   "metadata": {},
   "outputs": [
    {
     "name": "stdout",
     "output_type": "stream",
     "text": [
      "[' Mr. KAMOLWICH  THONGSRI' ' Mr. KRERKTHAM  ONLAMOON'\n",
      " ' Mr. CHAYATORN  CHUON' ' Mr. SUPHAWISH  SOMKLIANG'\n",
      " ' Mr. RAMIN  TUMJINDA' ' Miss JUTHAMAS  KHWANOLAN' ' Miss NAPAT  WANDEE'\n",
      " ' Miss YANOUCH  JADSON' ' Mr. NATDANAI  VANACHAI'\n",
      " ' Miss NATTAKAMON  JAIMETHA']\n"
     ]
    }
   ],
   "source": [
    "# 6. List 10 students with highest scores\n",
    "lis_scorA = []\n",
    "for i in score_A:\n",
    "    lis_scorA.append(i)\n",
    "smart_10 = []\n",
    "for i in range(10):\n",
    "    x = lis_scorA.index(max(lis_scorA))\n",
    "    smart_10.append(name_surA[x])\n",
    "    lis_scorA.remove(lis_scorA[x])\n",
    "smart_10 = np.array(smart_10)\n",
    "print(smart_10)"
   ]
  },
  {
   "cell_type": "code",
   "execution_count": 8,
   "id": "6b9cb9c0",
   "metadata": {},
   "outputs": [
    {
     "name": "stdout",
     "output_type": "stream",
     "text": [
      "[' Miss KEETAPHAT  SRIPINTA' ' Miss CHALISA  PHOSUEA'\n",
      " ' Miss WANWISA  LUENGNARUEMITCHAI' ' Miss JUTHAMAS  KHWANOLAN'\n",
      " ' Miss YANOUCH  JADSON' ' Miss NATTAKAMON  JAIMETHA'\n",
      " ' Miss NAPAT  WANDEE' ' Miss PATSORN  JIWAROENGSAWAT'\n",
      " ' Miss PIMDAOW  KHAYANKRAN' ' Miss THANAPORN  KANLEK']\n"
     ]
    }
   ],
   "source": [
    "# 7. List 10 female students with highest scores\n",
    "lis_nam_A = []\n",
    "for i in name_surA:\n",
    "    lis_nam_A.append(i)\n",
    "sco_fem_A = []\n",
    "female_A = []\n",
    "for i in range(len(lis_nam_A)):\n",
    "    if \"Miss\" in lis_nam_A[i]:\n",
    "        sco_fem_A.append(score_A[i])\n",
    "        female_A.append(lis_nam_A[i])\n",
    "fem_10 = []\n",
    "for i in range(10):\n",
    "    x = sco_fem_A.index(max(sco_fem_A))\n",
    "    fem_10.append(female_A[x])\n",
    "    sco_fem_A.remove(sco_fem_A[x])\n",
    "fem_10 = np.array(fem_10)\n",
    "print(fem_10)\n"
   ]
  },
  {
   "cell_type": "code",
   "execution_count": 9,
   "id": "2b2246df",
   "metadata": {},
   "outputs": [
    {
     "name": "stdout",
     "output_type": "stream",
     "text": [
      " Miss JUTHAMAS  KHWANOLAN\n",
      " Mr. SUPHAWISH  SOMKLIANG\n",
      " Mr. KANOKPHOL  DUEANCHAENG\n",
      " Mr. KAMOLWICH  THONGSRI\n",
      " Mr. KRERKTHAM  ONLAMOON\n",
      " Miss KEETAPHAT  SRIPINTA\n",
      " Miss YANOUCH  JADSON\n",
      " Miss NAPAT  WANDEE\n",
      " Mr. NATTAPAT  THONGMEEKHWAUN\n",
      " Miss NATTAPORN  LOHAKITSANA\n",
      " Mr. THANAPAT  SAHABANTOENGSIN\n",
      " Miss THANYATHON  TANGSRIPRACHIT\n",
      " Miss THANWARAT  RUEANGRIT\n",
      " Mr. THITIWUT  MALIWAN\n",
      " Mr. PATIMA  MUANGSUAY\n",
      " Miss PATCHARAMON  BUNLAUE\n",
      " Miss PIMDAOW  KHAYANKRAN\n",
      " Mr. PHETSIAM  CHONGSAKUL\n",
      " Miss WANWISA  LUENGNARUEMITCHAI\n",
      " Mr. VISSARUT  HONGTHONG\n",
      " Miss SASIKAN  CHOTCHAWALKUL\n",
      " Miss SASITORN  PAKDEERUETAI\n",
      " Miss SUPAKARN  SUMPATAPAKDEE\n",
      " Mr. SUPPHAWIT  PERKSUAN\n",
      " Miss ORAYA  CHAIPANYA\n"
     ]
    }
   ],
   "source": [
    "# 8. Display the students' names whose scores are higher than the average score of the class\n",
    "for i in subA:\n",
    "    if float(i[2]) > np.mean(score_A):\n",
    "        print(i[1])"
   ]
  },
  {
   "cell_type": "code",
   "execution_count": 10,
   "id": "ee796806",
   "metadata": {},
   "outputs": [
    {
     "name": "stdout",
     "output_type": "stream",
     "text": [
      " Mr. SUPHAWISH  SOMKLIANG\n",
      " Mr. KANOKPHOL  DUEANCHAENG\n",
      " Mr. KAMOLWICH  THONGSRI\n",
      " Mr. KRERKTHAM  ONLAMOON\n",
      " Mr. NATTAPAT  THONGMEEKHWAUN\n",
      " Mr. THANAPAT  SAHABANTOENGSIN\n",
      " Mr. THITIWUT  MALIWAN\n",
      " Mr. PATIMA  MUANGSUAY\n",
      " Mr. PHETSIAM  CHONGSAKUL\n",
      " Mr. VISSARUT  HONGTHONG\n",
      " Mr. SUPPHAWIT  PERKSUAN\n"
     ]
    }
   ],
   "source": [
    "# 9. Display the MALE students' names whose scores are higher than the average score of the \n",
    "# class sorted by student-id (increasing)\n",
    "for i in subA:\n",
    "    if float(i[2]) > np.mean(score_A) and i[1].find(\"Mr.\") != -1:\n",
    "        print(i[1])"
   ]
  },
  {
   "cell_type": "code",
   "execution_count": 11,
   "id": "76cc3242",
   "metadata": {},
   "outputs": [
    {
     "name": "stdout",
     "output_type": "stream",
     "text": [
      " Mr. KAMOLWICH  THONGSRI\n",
      " Miss KEETAPHAT  SRIPINTA\n",
      " Miss YANOUCH  JADSON\n",
      " Mr. SUPHAWISH  SOMKLIANG\n",
      " Miss SASITORN  PAKDEERUETAI\n",
      " Miss JUTHAMAS  KHWANOLAN\n",
      " Miss NATTAPORN  LOHAKITSANA\n",
      " Mr. NATTAPAT  THONGMEEKHWAUN\n",
      " Miss THANWARAT  RUEANGRIT\n",
      " Miss THANYATHON  TANGSRIPRACHIT\n",
      " Miss ORAYA  CHAIPANYA\n",
      " Mr. KANOKPHOL  DUEANCHAENG\n",
      " Mr. KRERKTHAM  ONLAMOON\n",
      " Mr. PHETSIAM  CHONGSAKUL\n",
      " Miss SUPAKARN  SUMPATAPAKDEE\n",
      " Miss PATCHARAMON  BUNLAUE\n",
      " Mr. PATIMA  MUANGSUAY\n",
      " Mr. VISSARUT  HONGTHONG\n",
      " Mr. THANAPAT  SAHABANTOENGSIN\n",
      " Mr. SUPPHAWIT  PERKSUAN\n",
      " Miss WANWISA  LUENGNARUEMITCHAI\n",
      " Mr. THITIWUT  MALIWAN\n",
      " Miss NAPAT  WANDEE\n",
      " Miss PIMDAOW  KHAYANKRAN\n",
      " Miss SASIKAN  CHOTCHAWALKUL\n"
     ]
    }
   ],
   "source": [
    "# 10. Display the students' names whose scores are higher than the average score of the class sorted by score (decreasing)\n",
    "sor_scoA = np.argsort(subA[:, 2])\n",
    "xyz = subA[sor_scoA][::-1]\n",
    "for i in xyz:\n",
    "    if float(i[2]) > np.mean(score_A):\n",
    "        print(i[1]) "
   ]
  },
  {
   "cell_type": "code",
   "execution_count": 12,
   "id": "c4058764",
   "metadata": {},
   "outputs": [
    {
     "data": {
      "image/png": "[encoded data removed]",
      "text/plain": [
       "<Figure size 640x480 with 1 Axes>"
      ]
     },
     "metadata": {},
     "output_type": "display_data"
    }
   ],
   "source": [
    "# 11. Compute score histogram of 10 bins from 40 - 100\n",
    "import matplotlib.pyplot as plt\n",
    "plt.hist(score_A, bins=10, range=(40,100))\n",
    "plt.show()"
   ]
  },
  {
   "cell_type": "code",
   "execution_count": 13,
   "id": "7bf1ff4b",
   "metadata": {},
   "outputs": [
    {
     "data": {
      "image/png": "[encoded data removed]",
      "text/plain": [
       "<Figure size 640x480 with 1 Axes>"
      ]
     },
     "metadata": {},
     "output_type": "display_data"
    }
   ],
   "source": [
    "# 12. Visualize the score histogram\n",
    "plt.hist(score_A)\n",
    "plt.xlabel(\"Score\")\n",
    "plt.ylabel(\"Count\")\n",
    "plt.title(\"Distribution of Scores\")\n",
    "plt.show()"
   ]
  },
  {
   "cell_type": "markdown",
   "id": "c60fc733",
   "metadata": {},
   "source": [
    "# Working with subjectA and subjectB.csv"
   ]
  },
  {
   "cell_type": "code",
   "execution_count": 14,
   "id": "f8959235",
   "metadata": {},
   "outputs": [
    {
     "name": "stdout",
     "output_type": "stream",
     "text": [
      "[['65070250' ' APISIT  PIDTATANUNG' '97.72218423']\n",
      " ['65070043' ' CHACUTTBUDEE  CHAITAWONKIT' '48.01735696']\n",
      " ['65070049' ' CHALISA  PHOSUEA' '77.57540884']\n",
      " ['65070044' ' CHANANYU  LIMCHAROEN' '71.67298245']\n",
      " ['65070045' ' CHANAPAT  KAEWMUNEECHOKE' '84.01482818']\n",
      " ['65070046' ' CHAYATORN  CHUON' '98.81415508']\n",
      " ['65070012' ' GAVINNAR  POONVILYLERZ' '60.45374276']\n",
      " ['65070256' ' ISSARIYAPON  HEYMUN' '74.0089515']\n",
      " ['65070039' ' JERAYA  KITJAROEN' '40.06875199']\n",
      " ['64070016' ' JUTHAMAS  KHWANOLAN' '47.69318107']\n",
      " ['65070009' ' KAMOLWICH  THONGSRI' '67.62881185']\n",
      " ['65070004' ' KANOKPHOL  DUEANCHAENG' '71.18646527']\n",
      " ['65070006' ' KANOKWAN  UESIRIRUNGRUENG' '63.82063404']\n",
      " ['65070029' ' KEETAPHAT  SRIPINTA' '73.38976355']\n",
      " ['65070010' ' KITTAMATE  KANNADHEP' '42.16314644']\n",
      " ['65070025' ' KRERKTHAM  ONLAMOON' '86.30336121']\n",
      " ['65070192' ' METHAPORN  SOMNUEK' '60.30336703']\n",
      " ['65070186' ' MONGKOL  BOONDAMNOEN' '88.6585395']\n",
      " ['65070120' ' NAMNEUNG  SOOKKHO' '57.54878611']\n",
      " ['65070063' ' NAPAT  WANDEE' '68.90435006']\n",
      " ['65070075' ' NATDANAI  VANACHAI' '99.48304098']\n",
      " ['65070060' ' NATHANON  HARNTAWEEPHAT' '46.36805824']\n",
      " ['65070068' ' NATTAKAMON  JAIMETHA' '76.80439837']\n",
      " ['65070080' ' NATTAPAT  THONGMEEKHWAUN' '48.47204254']\n",
      " ['65070085' ' NATTAPORN  LOHAKITSANA' '50.98924607']\n",
      " ['65070083' ' NATTAWAT  WERADECHTAWEEWON' '79.49168296']\n",
      " ['65070251' ' ORAYA  CHAIPANYA' '68.36566042']\n",
      " ['65070173' ' PAKIN  KITTICHAIKULKIT' '41.68146689']\n",
      " ['65070167' ' PALINEE  WAPEE' '68.52946247']\n",
      " ['65070134' ' PANNATHORN  KOMKRIS' '50.33147831']\n",
      " ['65070151' ' PATCHARAMON  BUNLAUE' '46.73433658']\n",
      " ['65070125' ' PATIMA  MUANGSUAY' '70.24951791']\n",
      " ['65070172' ' PATSORN  JIWAROENGSAWAT' '72.05324898']\n",
      " ['65070152' ' PATTEERA  LEECHAT' '76.90092567']\n",
      " ['65070143' ' PHATCHARANAN  KLAYBANDIT' '77.57309591']\n",
      " ['65070164' ' PHETSIAM  CHONGSAKUL' '56.19948096']\n",
      " ['65070156' ' PIMDAOW  KHAYANKRAN' '94.89475011']\n",
      " ['65070154' ' PITCHAYA  DUANRAM' '68.04932578']\n",
      " ['65070198' ' RAMIN  TUMJINDA' '80.15795895']\n",
      " ['65070212' ' SASIKAN  CHOTCHAWALKUL' '41.58187084']\n",
      " ['65070213' ' SASITORN  PAKDEERUETAI' '62.63981047']\n",
      " ['65070234' ' SUNTIPHAP  THUMMARONG' '90.97183786']\n",
      " ['65070223' ' SUPAKARN  SUMPATAPAKDEE' '89.47628282']\n",
      " ['64070110' ' SUPHAWISH  SOMKLIANG' '88.65658366']\n",
      " ['65070227' ' SUPPHAWIT  PERKSUAN' '82.96008498']\n",
      " ['65070244' ' SURATTANAWADEE  BOONLAI' '59.91840967']\n",
      " ['65070095' ' THANAPAT  SAHABANTOENGSIN' '58.99904267']\n",
      " ['65070098' ' THANAPORN  KANLEK' '61.75396196']\n",
      " ['65070106' ' THANWARAT  RUEANGRIT' '98.88897103']\n",
      " ['65070105' ' THANYATHON  TANGSRIPRACHIT' '96.37419931']\n",
      " ['65070107' ' THITIWUT  MALIWAN' '74.46053625']\n",
      " ['65070210' ' VISSARUT  HONGTHONG' '55.57617493']\n",
      " ['65070207' ' WANWISA  LUENGNARUEMITCHAI' '75.34791289']\n",
      " ['65070054' ' YANOUCH  JADSON' '94.72679623']]\n"
     ]
    }
   ],
   "source": [
    "# 13. Load subjectB.csv files as numpy array\n",
    "import csv\n",
    "subB = []\n",
    "with open('subjectB.csv',mode='r',newline='') as mycsv:\n",
    "    red = csv.reader(mycsv)\n",
    "    for i in red:\n",
    "        subB.append(i)\n",
    "subB.remove(subB[0])\n",
    "subB = np.array(subB)\n",
    "print(subB)"
   ]
  },
  {
   "cell_type": "code",
   "execution_count": 15,
   "id": "b3c29eb6",
   "metadata": {},
   "outputs": [
    {
     "name": "stdout",
     "output_type": "stream",
     "text": [
      "['65070250' '65070043' '65070049' '65070044' '65070045' '65070046'\n",
      " '65070012' '65070256' '65070039' '64070016' '65070009' '65070004'\n",
      " '65070006' '65070029' '65070010' '65070025' '65070192' '65070186'\n",
      " '65070120' '65070063' '65070075' '65070060' '65070068' '65070080'\n",
      " '65070085' '65070083' '65070251' '65070173' '65070167' '65070134'\n",
      " '65070151' '65070125' '65070172' '65070152' '65070143' '65070164'\n",
      " '65070156' '65070154' '65070198' '65070212' '65070213' '65070234'\n",
      " '65070223' '64070110' '65070227' '65070244' '65070095' '65070098'\n",
      " '65070106' '65070105' '65070107' '65070210' '65070207' '65070054']\n",
      "[' APISIT  PIDTATANUNG' ' CHACUTTBUDEE  CHAITAWONKIT' ' CHALISA  PHOSUEA'\n",
      " ' CHANANYU  LIMCHAROEN' ' CHANAPAT  KAEWMUNEECHOKE' ' CHAYATORN  CHUON'\n",
      " ' GAVINNAR  POONVILYLERZ' ' ISSARIYAPON  HEYMUN' ' JERAYA  KITJAROEN'\n",
      " ' JUTHAMAS  KHWANOLAN' ' KAMOLWICH  THONGSRI' ' KANOKPHOL  DUEANCHAENG'\n",
      " ' KANOKWAN  UESIRIRUNGRUENG' ' KEETAPHAT  SRIPINTA'\n",
      " ' KITTAMATE  KANNADHEP' ' KRERKTHAM  ONLAMOON' ' METHAPORN  SOMNUEK'\n",
      " ' MONGKOL  BOONDAMNOEN' ' NAMNEUNG  SOOKKHO' ' NAPAT  WANDEE'\n",
      " ' NATDANAI  VANACHAI' ' NATHANON  HARNTAWEEPHAT' ' NATTAKAMON  JAIMETHA'\n",
      " ' NATTAPAT  THONGMEEKHWAUN' ' NATTAPORN  LOHAKITSANA'\n",
      " ' NATTAWAT  WERADECHTAWEEWON' ' ORAYA  CHAIPANYA'\n",
      " ' PAKIN  KITTICHAIKULKIT' ' PALINEE  WAPEE' ' PANNATHORN  KOMKRIS'\n",
      " ' PATCHARAMON  BUNLAUE' ' PATIMA  MUANGSUAY' ' PATSORN  JIWAROENGSAWAT'\n",
      " ' PATTEERA  LEECHAT' ' PHATCHARANAN  KLAYBANDIT' ' PHETSIAM  CHONGSAKUL'\n",
      " ' PIMDAOW  KHAYANKRAN' ' PITCHAYA  DUANRAM' ' RAMIN  TUMJINDA'\n",
      " ' SASIKAN  CHOTCHAWALKUL' ' SASITORN  PAKDEERUETAI'\n",
      " ' SUNTIPHAP  THUMMARONG' ' SUPAKARN  SUMPATAPAKDEE'\n",
      " ' SUPHAWISH  SOMKLIANG' ' SUPPHAWIT  PERKSUAN' ' SURATTANAWADEE  BOONLAI'\n",
      " ' THANAPAT  SAHABANTOENGSIN' ' THANAPORN  KANLEK' ' THANWARAT  RUEANGRIT'\n",
      " ' THANYATHON  TANGSRIPRACHIT' ' THITIWUT  MALIWAN' ' VISSARUT  HONGTHONG'\n",
      " ' WANWISA  LUENGNARUEMITCHAI' ' YANOUCH  JADSON']\n",
      "[97.72218423 48.01735696 77.57540884 71.67298245 84.01482818 98.81415508\n",
      " 60.45374276 74.0089515  40.06875199 47.69318107 67.62881185 71.18646527\n",
      " 63.82063404 73.38976355 42.16314644 86.30336121 60.30336703 88.6585395\n",
      " 57.54878611 68.90435006 99.48304098 46.36805824 76.80439837 48.47204254\n",
      " 50.98924607 79.49168296 68.36566042 41.68146689 68.52946247 50.33147831\n",
      " 46.73433658 70.24951791 72.05324898 76.90092567 77.57309591 56.19948096\n",
      " 94.89475011 68.04932578 80.15795895 41.58187084 62.63981047 90.97183786\n",
      " 89.47628282 88.65658366 82.96008498 59.91840967 58.99904267 61.75396196\n",
      " 98.88897103 96.37419931 74.46053625 55.57617493 75.34791289 94.72679623]\n"
     ]
    }
   ],
   "source": [
    "# 14. Display the array\n",
    "stu_idB = []\n",
    "for i in subB[:,0]:\n",
    "    stu_idB.append(i)\n",
    "name_surB = []\n",
    "for i in subB[:,1]:\n",
    "    name_surB.append(i)\n",
    "score_B = []\n",
    "for i in subB[:,2]:\n",
    "    score_B.append(float(i))\n",
    "stu_idB = np.array(stu_idB)\n",
    "name_surB = np.array(name_surB)\n",
    "score_B = np.array(score_B)\n",
    "print(stu_idB)\n",
    "print(name_surB)\n",
    "print(score_B)"
   ]
  },
  {
   "cell_type": "code",
   "execution_count": 16,
   "id": "b4a738f3",
   "metadata": {},
   "outputs": [
    {
     "name": "stdout",
     "output_type": "stream",
     "text": [
      "[['64070016' ' Miss JUTHAMAS  KHWANOLAN' '92.15831559' '47.69318107']\n",
      " ['64070110' ' Mr. SUPHAWISH  SOMKLIANG' '93.03003676' '88.65658366']\n",
      " ['65070004' ' Mr. KANOKPHOL  DUEANCHAENG' '87.10794717' '71.18646527']\n",
      " ['65070006' ' Miss KANOKWAN  UESIRIRUNGRUENG' '66.37927939'\n",
      "  '63.82063404']\n",
      " ['65070009' ' Mr. KAMOLWICH  THONGSRI' '93.99081741' '67.62881185']\n",
      " ['65070010' ' Mr. KITTAMATE  KANNADHEP' '47.46870691' '42.16314644']\n",
      " ['65070012' ' Miss GAVINNAR  POONVILYLERZ' '57.38997227' '60.45374276']\n",
      " ['65070025' ' Mr. KRERKTHAM  ONLAMOON' '84.81501037' '86.30336121']\n",
      " ['65070029' ' Miss KEETAPHAT  SRIPINTA' '93.92534186' '73.38976355']\n",
      " ['65070039' ' Miss JERAYA  KITJAROEN' '42.08052701' '40.06875199']\n",
      " ['65070043' ' Mr. CHACUTTBUDEE  CHAITAWONKIT' '47.89167655'\n",
      "  '48.01735696']\n",
      " ['65070044' ' Mr. CHANANYU  LIMCHAROEN' '61.84285189' '71.67298245']\n",
      " ['65070045' ' Miss CHANAPAT  KAEWMUNEECHOKE' '43.01171441' '84.01482818']\n",
      " ['65070046' ' Mr. CHAYATORN  CHUON' '49.86228616' '98.81415508']\n",
      " ['65070049' ' Miss CHALISA  PHOSUEA' '43.43663669' '77.57540884']\n",
      " ['65070054' ' Miss YANOUCH  JADSON' '93.40263969' '94.72679623']\n",
      " ['65070060' ' Mr. NATHANON  HARNTAWEEPHAT' '66.67505139' '46.36805824']\n",
      " ['65070063' ' Miss NAPAT  WANDEE' '72.55591526' '68.90435006']\n",
      " ['65070068' ' Miss NATTAKAMON  JAIMETHA' '66.04749688' '76.80439837']\n",
      " ['65070075' ' Mr. NATDANAI  VANACHAI' '65.49294642' '99.48304098']\n",
      " ['65070080' ' Mr. NATTAPAT  THONGMEEKHWAUN' '90.37333159' '48.47204254']\n",
      " ['65070083' ' Mr. NATTAWAT  WERADECHTAWEEWON' '42.30639085'\n",
      "  '79.49168296']\n",
      " ['65070085' ' Miss NATTAPORN  LOHAKITSANA' '90.90459312' '50.98924607']\n",
      " ['65070095' ' Mr. THANAPAT  SAHABANTOENGSIN' '80.17502074' '58.99904267']\n",
      " ['65070098' ' Miss THANAPORN  KANLEK' '54.02712246' '61.75396196']\n",
      " ['65070105' ' Miss THANYATHON  TANGSRIPRACHIT' '87.59071177'\n",
      "  '96.37419931']\n",
      " ['65070106' ' Miss THANWARAT  RUEANGRIT' '87.88431361' '98.88897103']\n",
      " ['65070107' ' Mr. THITIWUT  MALIWAN' '72.78172848' '74.46053625']\n",
      " ['65070120' ' Miss NAMNEUNG  SOOKKHO' '44.99398775' '57.54878611']\n",
      " ['65070125' ' Mr. PATIMA  MUANGSUAY' '81.63440117' '70.24951791']\n",
      " ['65070134' ' Miss PANNATHORN  KOMKRIS' '52.85279154' '50.33147831']\n",
      " ['65070143' ' Miss PHATCHARANAN  KLAYBANDIT' '50.90331362' '77.57309591']\n",
      " ['65070151' ' Miss PATCHARAMON  BUNLAUE' '82.54013894' '46.73433658']\n",
      " ['65070152' ' Miss PATTEERA  LEECHAT' '48.75759631' '76.90092567']\n",
      " ['65070154' ' Miss PITCHAYA  DUANRAM' '48.48411219' '68.04932578']\n",
      " ['65070156' ' Miss PIMDAOW  KHAYANKRAN' '70.22253514' '94.89475011']\n",
      " ['65070164' ' Mr. PHETSIAM  CHONGSAKUL' '84.42623946' '56.19948096']\n",
      " ['65070167' ' Miss PALINEE  WAPEE' '41.18411668' '68.52946247']\n",
      " ['65070172' ' Miss PATSORN  JIWAROENGSAWAT' '42.94328985' '72.05324898']\n",
      " ['65070173' ' Mr. PAKIN  KITTICHAIKULKIT' '43.17397675' '41.68146689']\n",
      " ['65070186' ' Mr. MONGKOL  BOONDAMNOEN' '52.79286356' '88.6585395']\n",
      " ['65070192' ' Miss METHAPORN  SOMNUEK' '64.08218952' '60.30336703']\n",
      " ['65070198' ' Mr. RAMIN  TUMJINDA' '63.07279735' '80.15795895']\n",
      " ['65070207' ' Miss WANWISA  LUENGNARUEMITCHAI' '76.06516819'\n",
      "  '75.34791289']\n",
      " ['65070210' ' Mr. VISSARUT  HONGTHONG' '80.25654593' '55.57617493']\n",
      " ['65070212' ' Miss SASIKAN  CHOTCHAWALKUL' '69.13322461' '41.58187084']\n",
      " ['65070213' ' Miss SASITORN  PAKDEERUETAI' '92.80784983' '62.63981047']\n",
      " ['65070223' ' Miss SUPAKARN  SUMPATAPAKDEE' '83.18108494' '89.47628282']\n",
      " ['65070227' ' Mr. SUPPHAWIT  PERKSUAN' '76.46769346' '82.96008498']\n",
      " ['65070234' ' Mr. SUNTIPHAP  THUMMARONG' '56.04025246' '90.97183786']\n",
      " ['65070244' ' Miss SURATTANAWADEE  BOONLAI' '60.9166903' '59.91840967']\n",
      " ['65070250' ' Mr. APISIT  PIDTATANUNG' '58.85083969' '97.72218423']\n",
      " ['65070251' ' Miss ORAYA  CHAIPANYA' '87.38772737' '68.36566042']\n",
      " ['65070256' ' Miss ISSARIYAPON  HEYMUN' '55.0287395' '74.0089515']]\n"
     ]
    }
   ],
   "source": [
    "# 15. Create an 54x4 array of student-id, student-name, score from subject A and score from subject B of all students\n",
    "sor_idB = np.argsort(subB[:, 0])\n",
    "xyz = subB[sor_idB][::]\n",
    "sco_B = xyz[:,2]\n",
    "sor_idA = np.argsort(subA[:, 0])\n",
    "abc = subA[sor_idA]\n",
    "id_A = abc[:,0]\n",
    "namsur_A = abc[:,1]\n",
    "sco_A = abc[:,2]\n",
    "ans_15 = np.stack((id_A, name_surA , sco_A , sco_B), axis = 1)\n",
    "print(ans_15)"
   ]
  },
  {
   "cell_type": "code",
   "execution_count": 17,
   "id": "7be297b1",
   "metadata": {},
   "outputs": [
    {
     "name": "stdout",
     "output_type": "stream",
     "text": [
      " Miss JUTHAMAS  KHWANOLAN\n",
      " Mr. SUPHAWISH  SOMKLIANG\n",
      " Mr. KANOKPHOL  DUEANCHAENG\n",
      " Miss KANOKWAN  UESIRIRUNGRUENG\n",
      " Mr. KAMOLWICH  THONGSRI\n",
      " Mr. KITTAMATE  KANNADHEP\n",
      " Miss KEETAPHAT  SRIPINTA\n",
      " Miss JERAYA  KITJAROEN\n",
      " Mr. NATHANON  HARNTAWEEPHAT\n",
      " Miss NAPAT  WANDEE\n",
      " Mr. NATTAPAT  THONGMEEKHWAUN\n",
      " Miss NATTAPORN  LOHAKITSANA\n",
      " Mr. THANAPAT  SAHABANTOENGSIN\n",
      " Mr. PATIMA  MUANGSUAY\n",
      " Miss PANNATHORN  KOMKRIS\n",
      " Miss PATCHARAMON  BUNLAUE\n",
      " Mr. PHETSIAM  CHONGSAKUL\n",
      " Mr. PAKIN  KITTICHAIKULKIT\n",
      " Miss METHAPORN  SOMNUEK\n",
      " Miss WANWISA  LUENGNARUEMITCHAI\n",
      " Mr. VISSARUT  HONGTHONG\n",
      " Miss SASIKAN  CHOTCHAWALKUL\n",
      " Miss SASITORN  PAKDEERUETAI\n",
      " Miss SURATTANAWADEE  BOONLAI\n",
      " Miss ORAYA  CHAIPANYA\n"
     ]
    }
   ],
   "source": [
    "# 16. Find the students who has higher score from subject A than subject B\n",
    "for i in ans_15:\n",
    "    if float(i[2]) > float(i[3]):\n",
    "        print(i[1])"
   ]
  },
  {
   "cell_type": "code",
   "execution_count": 18,
   "id": "45588ce9",
   "metadata": {},
   "outputs": [
    {
     "name": "stdout",
     "output_type": "stream",
     "text": [
      " Mr. SUPHAWISH  SOMKLIANG\n",
      " Mr. KANOKPHOL  DUEANCHAENG\n",
      " Mr. KRERKTHAM  ONLAMOON\n",
      " Miss KEETAPHAT  SRIPINTA\n",
      " Miss YANOUCH  JADSON\n",
      " Miss THANYATHON  TANGSRIPRACHIT\n",
      " Miss THANWARAT  RUEANGRIT\n",
      " Mr. THITIWUT  MALIWAN\n",
      " Mr. PATIMA  MUANGSUAY\n",
      " Miss PIMDAOW  KHAYANKRAN\n",
      " Miss WANWISA  LUENGNARUEMITCHAI\n",
      " Miss SUPAKARN  SUMPATAPAKDEE\n",
      " Mr. SUPPHAWIT  PERKSUAN\n"
     ]
    }
   ],
   "source": [
    "# 17. Display the students who has higher score than the average in both subject\n",
    "mean_a = np.mean(score_A)\n",
    "mean_b = np.mean(score_B)\n",
    "for i in ans_15:\n",
    "    if float(i[2]) > mean_a and float(i[3]) > mean_b:\n",
    "        print(i[1])"
   ]
  },
  {
   "cell_type": "code",
   "execution_count": 19,
   "id": "747759a1",
   "metadata": {},
   "outputs": [
    {
     "name": "stdout",
     "output_type": "stream",
     "text": [
      "64070016  Miss JUTHAMAS  KHWANOLAN => gsA = A, gsB = F\n",
      "64070110  Mr. SUPHAWISH  SOMKLIANG => gsA = A, gsB = A\n",
      "65070004  Mr. KANOKPHOL  DUEANCHAENG => gsA = A, gsB = C+\n",
      "65070006  Miss KANOKWAN  UESIRIRUNGRUENG => gsA = C, gsB = C\n",
      "65070009  Mr. KAMOLWICH  THONGSRI => gsA = A, gsB = C\n",
      "65070010  Mr. KITTAMATE  KANNADHEP => gsA = F, gsB = F\n",
      "65070012  Miss GAVINNAR  POONVILYLERZ => gsA = D+, gsB = C\n",
      "65070025  Mr. KRERKTHAM  ONLAMOON => gsA = B+, gsB = A\n",
      "65070029  Miss KEETAPHAT  SRIPINTA => gsA = A, gsB = C+\n",
      "65070039  Miss JERAYA  KITJAROEN => gsA = F, gsB = F\n",
      "65070043  Mr. CHACUTTBUDEE  CHAITAWONKIT => gsA = F, gsB = F\n",
      "65070044  Mr. CHANANYU  LIMCHAROEN => gsA = C, gsB = C+\n",
      "65070045  Miss CHANAPAT  KAEWMUNEECHOKE => gsA = F, gsB = B+\n",
      "65070046  Mr. CHAYATORN  CHUON => gsA = F, gsB = A\n",
      "65070049  Miss CHALISA  PHOSUEA => gsA = F, gsB = B\n",
      "65070054  Miss YANOUCH  JADSON => gsA = A, gsB = A\n",
      "65070060  Mr. NATHANON  HARNTAWEEPHAT => gsA = C, gsB = F\n",
      "65070063  Miss NAPAT  WANDEE => gsA = C+, gsB = C\n",
      "65070068  Miss NATTAKAMON  JAIMETHA => gsA = C, gsB = B\n",
      "65070075  Mr. NATDANAI  VANACHAI => gsA = C, gsB = A\n",
      "65070080  Mr. NATTAPAT  THONGMEEKHWAUN => gsA = A, gsB = F\n",
      "65070083  Mr. NATTAWAT  WERADECHTAWEEWON => gsA = F, gsB = B\n",
      "65070085  Miss NATTAPORN  LOHAKITSANA => gsA = A, gsB = D\n",
      "65070095  Mr. THANAPAT  SAHABANTOENGSIN => gsA = B+, gsB = D+\n",
      "65070098  Miss THANAPORN  KANLEK => gsA = D, gsB = C\n",
      "65070105  Miss THANYATHON  TANGSRIPRACHIT => gsA = A, gsB = A\n",
      "65070106  Miss THANWARAT  RUEANGRIT => gsA = A, gsB = A\n",
      "65070107  Mr. THITIWUT  MALIWAN => gsA = C+, gsB = C+\n",
      "65070120  Miss NAMNEUNG  SOOKKHO => gsA = F, gsB = D+\n",
      "65070125  Mr. PATIMA  MUANGSUAY => gsA = B+, gsB = C+\n",
      "65070134  Miss PANNATHORN  KOMKRIS => gsA = D, gsB = D\n",
      "65070143  Miss PHATCHARANAN  KLAYBANDIT => gsA = D, gsB = B\n",
      "65070151  Miss PATCHARAMON  BUNLAUE => gsA = B+, gsB = F\n",
      "65070152  Miss PATTEERA  LEECHAT => gsA = F, gsB = B\n",
      "65070154  Miss PITCHAYA  DUANRAM => gsA = F, gsB = C\n",
      "65070156  Miss PIMDAOW  KHAYANKRAN => gsA = C+, gsB = A\n",
      "65070164  Mr. PHETSIAM  CHONGSAKUL => gsA = B+, gsB = D+\n",
      "65070167  Miss PALINEE  WAPEE => gsA = F, gsB = C\n",
      "65070172  Miss PATSORN  JIWAROENGSAWAT => gsA = F, gsB = C+\n",
      "65070173  Mr. PAKIN  KITTICHAIKULKIT => gsA = F, gsB = F\n",
      "65070186  Mr. MONGKOL  BOONDAMNOEN => gsA = D, gsB = A\n",
      "65070192  Miss METHAPORN  SOMNUEK => gsA = C, gsB = C\n",
      "65070198  Mr. RAMIN  TUMJINDA => gsA = C, gsB = B+\n",
      "65070207  Miss WANWISA  LUENGNARUEMITCHAI => gsA = B, gsB = B\n",
      "65070210  Mr. VISSARUT  HONGTHONG => gsA = B+, gsB = D+\n",
      "65070212  Miss SASIKAN  CHOTCHAWALKUL => gsA = C, gsB = F\n",
      "65070213  Miss SASITORN  PAKDEERUETAI => gsA = A, gsB = C\n",
      "65070223  Miss SUPAKARN  SUMPATAPAKDEE => gsA = B+, gsB = A\n",
      "65070227  Mr. SUPPHAWIT  PERKSUAN => gsA = B, gsB = B+\n",
      "65070234  Mr. SUNTIPHAP  THUMMARONG => gsA = D+, gsB = A\n",
      "65070244  Miss SURATTANAWADEE  BOONLAI => gsA = C, gsB = D+\n",
      "65070250  Mr. APISIT  PIDTATANUNG => gsA = D+, gsB = A\n"
     ]
    }
   ],
   "source": [
    "# 18. Calculate the letter-grade from score of subject A and subject B, and display them \n",
    "# where <50 = F, 50-55 = D, 55-60 = D+, 60-70 = C, 70-75 = C+, 75-80 = B, 80-85 = B+ and >85 = A\n",
    "grade_a = []\n",
    "grade_b = []\n",
    "for i in ans_15:\n",
    "    if float(i[2]) >= 85:\n",
    "        grade_a.append(\"A\")\n",
    "    elif 80 <= float(i[2]) < 85:\n",
    "        grade_a.append(\"B+\")\n",
    "    elif 75 <= float(i[2]) < 80:\n",
    "        grade_a.append(\"B\")\n",
    "    elif 70 <= float(i[2]) < 75:\n",
    "        grade_a.append(\"C+\")\n",
    "    elif 60 <= float(i[2]) < 70:\n",
    "        grade_a.append(\"C\")\n",
    "    elif 55 <= float(i[2]) < 60:\n",
    "        grade_a.append(\"D+\")\n",
    "    elif 50 <= float(i[2]) < 55:\n",
    "        grade_a.append(\"D\")\n",
    "    elif float(i[2]) < 50:\n",
    "        grade_a.append(\"F\")\n",
    "for i in ans_15:\n",
    "    if float(i[3]) >= 85:\n",
    "        grade_b.append(\"A\")\n",
    "    elif 80 <= float(i[3]) < 85:\n",
    "        grade_b.append(\"B+\")\n",
    "    elif 75 <= float(i[3]) < 80:\n",
    "        grade_b.append(\"B\")\n",
    "    elif 70 <= float(i[3]) < 75:\n",
    "        grade_b.append(\"C+\")\n",
    "    elif 60 <= float(i[3]) < 70:\n",
    "        grade_b.append(\"C\")\n",
    "    elif 55 <= float(i[3]) < 60:\n",
    "        grade_b.append(\"D+\")\n",
    "    elif 50 <= float(i[3]) < 55:\n",
    "        grade_b.append(\"D\")\n",
    "    elif float(i[3]) < 50:\n",
    "        grade_b.append(\"F\")\n",
    "for i in range(52):\n",
    "    print(\"%s %s => gsA = %s, gsB = %s\" %(ans_15[i, 0], ans_15[i, 1], grade_a[i], grade_b[i]))"
   ]
  },
  {
   "cell_type": "markdown",
   "id": "e0fcc624",
   "metadata": {},
   "source": [
    "# Working with subjectA, subjectB.csv and subjectC.csv"
   ]
  },
  {
   "cell_type": "code",
   "execution_count": 20,
   "id": "a5b79cd2",
   "metadata": {},
   "outputs": [
    {
     "name": "stdout",
     "output_type": "stream",
     "text": [
      "[['65070006' 'A']\n",
      " ['65070010' 'A']\n",
      " ['65070012' 'A']\n",
      " ['65070029' 'A']\n",
      " ['65070039' 'A']\n",
      " ['65070049' 'A']\n",
      " ['65070054' 'A']\n",
      " ['65070060' 'A']\n",
      " ['65070075' 'A']\n",
      " ['65070080' 'A']\n",
      " ['65070098' 'A']\n",
      " ['65070105' 'A']\n",
      " ['65070106' 'A']\n",
      " ['65070120' 'A']\n",
      " ['65070125' 'A']\n",
      " ['65070134' 'A']\n",
      " ['65070143' 'A']\n",
      " ['65070154' 'A']\n",
      " ['65070192' 'A']\n",
      " ['65070207' 'A']\n",
      " ['65070212' 'A']\n",
      " ['65070227' 'A']\n",
      " ['65070256' 'A']\n",
      " ['65070044' 'B']\n",
      " ['65070083' 'B+']\n",
      " ['65070095' 'B+']\n",
      " ['65070107' 'B+']\n",
      " ['65070156' 'B+']\n",
      " ['65070164' 'B+']\n",
      " ['64070110' 'C']\n",
      " ['65070045' 'C']\n",
      " ['65070085' 'C']\n",
      " ['65070167' 'C']\n",
      " ['65070173' 'C']\n",
      " ['65070198' 'C']\n",
      " ['65070244' 'C']\n",
      " ['65070213' 'C+']\n",
      " ['65070234' 'C+']\n",
      " ['64070016' 'D+']\n",
      " ['65070009' 'D+']\n",
      " ['65070025' 'D+']\n",
      " ['65070046' 'D+']\n",
      " ['65070063' 'D+']\n",
      " ['65070068' 'D+']\n",
      " ['65070152' 'D+']\n",
      " ['65070186' 'D+']\n",
      " ['65070210' 'D+']\n",
      " ['65070250' 'D+']\n",
      " ['65070251' 'D+']\n",
      " ['65070004' 'F']\n",
      " ['65070043' 'F']\n",
      " ['65070151' 'F']\n",
      " ['65070172' 'F']\n",
      " ['65070223' 'F']]\n"
     ]
    }
   ],
   "source": [
    "# 19. Load subjectC.csv files as numpy array\n",
    "import csv\n",
    "subC = []\n",
    "with open('subjectC.csv',mode='r',newline='') as mycsv:\n",
    "    red = csv.reader(mycsv)\n",
    "    for i in red:\n",
    "        subC.append(i)\n",
    "subC.remove(subC[0])\n",
    "subC = np.array(subC)\n",
    "print(subC)"
   ]
  },
  {
   "cell_type": "code",
   "execution_count": 21,
   "id": "6ac2fb30",
   "metadata": {},
   "outputs": [
    {
     "name": "stdout",
     "output_type": "stream",
     "text": [
      "['65070006' '65070010' '65070012' '65070029' '65070039' '65070049'\n",
      " '65070054' '65070060' '65070075' '65070080' '65070098' '65070105'\n",
      " '65070106' '65070120' '65070125' '65070134' '65070143' '65070154'\n",
      " '65070192' '65070207' '65070212' '65070227' '65070256' '65070044'\n",
      " '65070083' '65070095' '65070107' '65070156' '65070164' '64070110'\n",
      " '65070045' '65070085' '65070167' '65070173' '65070198' '65070244'\n",
      " '65070213' '65070234' '64070016' '65070009' '65070025' '65070046'\n",
      " '65070063' '65070068' '65070152' '65070186' '65070210' '65070250'\n",
      " '65070251' '65070004' '65070043' '65070151' '65070172' '65070223']\n",
      "['A' 'A' 'A' 'A' 'A' 'A' 'A' 'A' 'A' 'A' 'A' 'A' 'A' 'A' 'A' 'A' 'A' 'A'\n",
      " 'A' 'A' 'A' 'A' 'A' 'B' 'B+' 'B+' 'B+' 'B+' 'B+' 'C' 'C' 'C' 'C' 'C' 'C'\n",
      " 'C' 'C+' 'C+' 'D+' 'D+' 'D+' 'D+' 'D+' 'D+' 'D+' 'D+' 'D+' 'D+' 'D+' 'F'\n",
      " 'F' 'F' 'F' 'F']\n"
     ]
    }
   ],
   "source": [
    "# 20. Display the array\n",
    "stu_idC = []\n",
    "for i in subC[:,0]:\n",
    "    stu_idC.append(i)\n",
    "gradeC = []\n",
    "for i in subC[:,1]:\n",
    "    gradeC.append(i)\n",
    "stu_idC = np.array(stu_idC)\n",
    "gradeC = np.array(gradeC)\n",
    "print(stu_idC)\n",
    "print(gradeC)"
   ]
  },
  {
   "cell_type": "code",
   "execution_count": 22,
   "id": "cdd61557",
   "metadata": {},
   "outputs": [
    {
     "data": {
      "image/png": "[encoded data removed]",
      "text/plain": [
       "<Figure size 640x480 with 1 Axes>"
      ]
     },
     "metadata": {},
     "output_type": "display_data"
    }
   ],
   "source": [
    "# 21. Display the histogram of grade letter (8-bins) of male and female students\n",
    "id_fem = []\n",
    "for i in subA:\n",
    "    if \"Miss\" in i[1]:\n",
    "        id_fem.append(i[0])\n",
    "id_men = []\n",
    "for i in subA:\n",
    "    if \"Mr.\" in i[1]:\n",
    "        id_men.append(i[0])\n",
    "gc_fem = []\n",
    "gc_men = []\n",
    "for i in range(52):\n",
    "    if stu_idC[i] in id_fem:\n",
    "        gc_fem.append(gradeC[i])\n",
    "    elif stu_idC[i] in id_men:\n",
    "        gc_men.append(gradeC[i])\n",
    "tack = [\"Male\", \"Female\"]\n",
    "plt.hist((gc_men, gc_fem), bins=8, label=tack)\n",
    "plt.title(\"DSBA freshman\")\n",
    "plt.xlabel(\"Grade sub C\")\n",
    "plt.ylabel(\"Count\")\n",
    "plt.legend()\n",
    "plt.show()"
   ]
  },
  {
   "cell_type": "code",
   "execution_count": 23,
   "id": "34e794b1",
   "metadata": {},
   "outputs": [
    {
     "data": {
      "text/plain": [
       "'\\nfemale students, because there have female students got grade A more than male students.\\n'"
      ]
     },
     "execution_count": 23,
     "metadata": {},
     "output_type": "execute_result"
    }
   ],
   "source": [
    "# 22. Which students are better at subject C than another, male or female students? And Why? \n",
    "#  Please explain and show concreate evidences.\n",
    "\"\"\"\n",
    "female students, because there have female students got grade A more than male students.\n",
    "\"\"\""
   ]
  },
  {
   "cell_type": "code",
   "execution_count": 24,
   "id": "ed08b2dc",
   "metadata": {},
   "outputs": [
    {
     "name": "stdout",
     "output_type": "stream",
     "text": [
      "[['64070016' ' Miss JUTHAMAS  KHWANOLAN' 'D+']\n",
      " ['64070110' ' Mr. SUPHAWISH  SOMKLIANG' 'C']\n",
      " ['65070004' ' Mr. KANOKPHOL  DUEANCHAENG' 'F']\n",
      " ['65070006' ' Miss KANOKWAN  UESIRIRUNGRUENG' 'A']\n",
      " ['65070009' ' Mr. KAMOLWICH  THONGSRI' 'D+']\n",
      " ['65070010' ' Mr. KITTAMATE  KANNADHEP' 'A']\n",
      " ['65070012' ' Miss GAVINNAR  POONVILYLERZ' 'A']\n",
      " ['65070025' ' Mr. KRERKTHAM  ONLAMOON' 'D+']\n",
      " ['65070029' ' Miss KEETAPHAT  SRIPINTA' 'A']\n",
      " ['65070039' ' Miss JERAYA  KITJAROEN' 'A']\n",
      " ['65070043' ' Mr. CHACUTTBUDEE  CHAITAWONKIT' 'F']\n",
      " ['65070044' ' Mr. CHANANYU  LIMCHAROEN' 'B']\n",
      " ['65070045' ' Miss CHANAPAT  KAEWMUNEECHOKE' 'C']\n",
      " ['65070046' ' Mr. CHAYATORN  CHUON' 'D+']\n",
      " ['65070049' ' Miss CHALISA  PHOSUEA' 'A']\n",
      " ['65070054' ' Miss YANOUCH  JADSON' 'A']\n",
      " ['65070060' ' Mr. NATHANON  HARNTAWEEPHAT' 'A']\n",
      " ['65070063' ' Miss NAPAT  WANDEE' 'D+']\n",
      " ['65070068' ' Miss NATTAKAMON  JAIMETHA' 'D+']\n",
      " ['65070075' ' Mr. NATDANAI  VANACHAI' 'A']\n",
      " ['65070080' ' Mr. NATTAPAT  THONGMEEKHWAUN' 'A']\n",
      " ['65070083' ' Mr. NATTAWAT  WERADECHTAWEEWON' 'B+']\n",
      " ['65070085' ' Miss NATTAPORN  LOHAKITSANA' 'C']\n",
      " ['65070095' ' Mr. THANAPAT  SAHABANTOENGSIN' 'B+']\n",
      " ['65070098' ' Miss THANAPORN  KANLEK' 'A']\n",
      " ['65070105' ' Miss THANYATHON  TANGSRIPRACHIT' 'A']\n",
      " ['65070106' ' Miss THANWARAT  RUEANGRIT' 'A']\n",
      " ['65070107' ' Mr. THITIWUT  MALIWAN' 'B+']\n",
      " ['65070120' ' Miss NAMNEUNG  SOOKKHO' 'A']\n",
      " ['65070125' ' Mr. PATIMA  MUANGSUAY' 'A']\n",
      " ['65070134' ' Miss PANNATHORN  KOMKRIS' 'A']\n",
      " ['65070143' ' Miss PHATCHARANAN  KLAYBANDIT' 'A']\n",
      " ['65070151' ' Miss PATCHARAMON  BUNLAUE' 'F']\n",
      " ['65070152' ' Miss PATTEERA  LEECHAT' 'D+']\n",
      " ['65070154' ' Miss PITCHAYA  DUANRAM' 'A']\n",
      " ['65070156' ' Miss PIMDAOW  KHAYANKRAN' 'B+']\n",
      " ['65070164' ' Mr. PHETSIAM  CHONGSAKUL' 'B+']\n",
      " ['65070167' ' Miss PALINEE  WAPEE' 'C']\n",
      " ['65070172' ' Miss PATSORN  JIWAROENGSAWAT' 'F']\n",
      " ['65070173' ' Mr. PAKIN  KITTICHAIKULKIT' 'C']\n",
      " ['65070186' ' Mr. MONGKOL  BOONDAMNOEN' 'D+']\n",
      " ['65070192' ' Miss METHAPORN  SOMNUEK' 'A']\n",
      " ['65070198' ' Mr. RAMIN  TUMJINDA' 'C']\n",
      " ['65070207' ' Miss WANWISA  LUENGNARUEMITCHAI' 'A']\n",
      " ['65070210' ' Mr. VISSARUT  HONGTHONG' 'D+']\n",
      " ['65070212' ' Miss SASIKAN  CHOTCHAWALKUL' 'A']\n",
      " ['65070213' ' Miss SASITORN  PAKDEERUETAI' 'C+']\n",
      " ['65070223' ' Miss SUPAKARN  SUMPATAPAKDEE' 'F']\n",
      " ['65070227' ' Mr. SUPPHAWIT  PERKSUAN' 'A']\n",
      " ['65070234' ' Mr. SUNTIPHAP  THUMMARONG' 'C+']\n",
      " ['65070244' ' Miss SURATTANAWADEE  BOONLAI' 'C']\n",
      " ['65070250' ' Mr. APISIT  PIDTATANUNG' 'D+']\n",
      " ['65070251' ' Miss ORAYA  CHAIPANYA' 'D+']\n",
      " ['65070256' ' Miss ISSARIYAPON  HEYMUN' 'A']]\n"
     ]
    }
   ],
   "source": [
    "# 23. Compute the GPA of each students and display student-id, name and GPA, sorted by student-id (increasing)\n",
    "# Where A=4.00, B+=3.50, B=3.00, C+=2.50, C=2.00, D+=1.50, D=1.00 and F=0\n",
    "sor_idC = np.argsort(stu_idC)\n",
    "ans = np.stack((stu_idC[sor_idC], name_surA, gradeC[sor_idC]), axis = 1)\n",
    "print(ans)"
   ]
  },
  {
   "cell_type": "code",
   "execution_count": 25,
   "id": "f6722c8b",
   "metadata": {},
   "outputs": [
    {
     "data": {
      "image/png": "[encoded data removed]",
      "text/plain": [
       "<Figure size 640x480 with 1 Axes>"
      ]
     },
     "metadata": {},
     "output_type": "display_data"
    }
   ],
   "source": [
    "# 24. Display histogram of grade letter (8-bins) from 3 subjects on the same graph with different colors\n",
    "tack = [\"Sub A\", \"Sub B\", \"Sub C\"]\n",
    "plt.hist((grade_a, grade_b, gradeC), bins=8, label=tack)\n",
    "plt.title(\"DSBA freshman\")\n",
    "plt.xlabel(\"Grade\")\n",
    "plt.ylabel(\"Count\")\n",
    "plt.legend()\n",
    "plt.show()"
   ]
  },
  {
   "cell_type": "code",
   "execution_count": 26,
   "id": "65123134",
   "metadata": {},
   "outputs": [
    {
     "data": {
      "image/png": "[encoded data removed]",
      "text/plain": [
       "<Figure size 640x480 with 1 Axes>"
      ]
     },
     "metadata": {},
     "output_type": "display_data"
    }
   ],
   "source": [
    "# 25. Display histogram of grade letter (8-bins) from 3 subjects on the same graph with different colors for only male students\n",
    "ga_men = []\n",
    "gb_men = []\n",
    "for i in range(52):\n",
    "    if ans_15[i, 0] in id_men:\n",
    "        ga_men.append(grade_a[i])\n",
    "        gb_men.append(grade_b[i])\n",
    "tack = [\"Sub A\", \"Sub B\", \"Sub C\"]\n",
    "plt.hist((ga_men, gb_men, gc_men), bins=8, label=tack)\n",
    "plt.title(\"DSBA freshman Male\")\n",
    "plt.xlabel(\"Grade\")\n",
    "plt.ylabel(\"Count\")\n",
    "plt.legend()\n",
    "plt.show()"
   ]
  }
 ],
 "metadata": {
  "kernelspec": {
   "display_name": "Python 3.11.2 64-bit",
   "language": "python",
   "name": "python3"
  },
  "language_info": {
   "codemirror_mode": {
    "name": "ipython",
    "version": 3
   },
   "file_extension": ".py",
   "mimetype": "text/x-python",
   "name": "python",
   "nbconvert_exporter": "python",
   "pygments_lexer": "ipython3",
   "version": "3.10.8"
  },
  "vscode": {
   "interpreter": {
    "hash": "5238573367df39f7286bb46f9ff5f08f63a01a80960060ce41e3c79b190280fa"
   }
  }
 },
 "nbformat": 4,
 "nbformat_minor": 5
}
