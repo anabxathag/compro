{
 "cells": [
  {
   "cell_type": "markdown",
   "id": "41ac842f",
   "metadata": {},
   "source": [
    "# Numpy exercises"
   ]
  },
  {
   "cell_type": "markdown",
   "id": "052c94a4",
   "metadata": {},
   "source": [
    "นายณัฐวัฒน์ วีรเดชทวีวรรณ  65070083"
   ]
  },
  {
   "cell_type": "markdown",
   "id": "37e1aa47",
   "metadata": {},
   "source": [
    "1. นำเข้า numpy package และตั้งชื่อว่า np "
   ]
  },
  {
   "cell_type": "code",
   "execution_count": 3,
   "id": "19255285",
   "metadata": {},
   "outputs": [],
   "source": [
    "import numpy as np"
   ]
  },
  {
   "cell_type": "markdown",
   "id": "cad94d82",
   "metadata": {},
   "source": [
    "2. สร้าง vector ที่มีค่า 0 ขนาดความยาว 10 หน่วย"
   ]
  },
  {
   "cell_type": "code",
   "execution_count": 4,
   "id": "0cce93ef",
   "metadata": {},
   "outputs": [
    {
     "name": "stdout",
     "output_type": "stream",
     "text": [
      "[0 0 0 0 0 0 0 0 0 0]\n"
     ]
    }
   ],
   "source": [
    "ans = np.zeros(10, dtype=int)\n",
    "print(ans)"
   ]
  },
  {
   "cell_type": "markdown",
   "id": "8473381f",
   "metadata": {},
   "source": [
    "3. สร้าง vector ที่มีค่า 0 ขนาดความยาว 10 หน่วย และกำหนดให้สมาชิกตัวที่ 5 มีค่าเท่ากับ 1"
   ]
  },
  {
   "cell_type": "code",
   "execution_count": 4,
   "id": "b3d25e87",
   "metadata": {},
   "outputs": [
    {
     "name": "stdout",
     "output_type": "stream",
     "text": [
      "[0 0 0 0 1 0 0 0 0 0]\n"
     ]
    }
   ],
   "source": [
    "ans = np.zeros(10, dtype=int)\n",
    "ans[4] = 1\n",
    "print(ans)"
   ]
  },
  {
   "cell_type": "markdown",
   "id": "5b1f9e9f",
   "metadata": {},
   "source": [
    "4. สร้าง vector เก็บค่าตัวเลขตั้งแต่ 12-51"
   ]
  },
  {
   "cell_type": "code",
   "execution_count": 5,
   "id": "1f217b8d",
   "metadata": {},
   "outputs": [
    {
     "name": "stdout",
     "output_type": "stream",
     "text": [
      "[12 13 14 15 16 17 18 19 20 21 22 23 24 25 26 27 28 29 30 31 32 33 34 35\n",
      " 36 37 38 39 40 41 42 43 44 45 46 47 48 49 50 51]\n"
     ]
    }
   ],
   "source": [
    "ans = np.arange(12,52)\n",
    "print(ans)"
   ]
  },
  {
   "cell_type": "markdown",
   "id": "dda84f1d",
   "metadata": {},
   "source": [
    "5. ทำการสลับลำดับของสมาชิกภายใน vector ที่สร้างขึ้นจากข้อก่อนหน้า (สมาชิกตัวแรก เป็นตัวสุดท้าย ตามลำดับ)"
   ]
  },
  {
   "cell_type": "code",
   "execution_count": 6,
   "id": "4b024109",
   "metadata": {},
   "outputs": [
    {
     "name": "stdout",
     "output_type": "stream",
     "text": [
      "[51 50 49 48 47 46 45 44 43 42 41 40 39 38 37 36 35 34 33 32 31 30 29 28\n",
      " 27 26 25 24 23 22 21 20 19 18 17 16 15 14 13 12]\n"
     ]
    }
   ],
   "source": [
    "rev = ans[::-1]\n",
    "print(rev)"
   ]
  },
  {
   "cell_type": "markdown",
   "id": "57b6c853",
   "metadata": {},
   "source": [
    "6. สร้าง array ขนาด 3x3 ที่เก็บค่าตั้งแต่ 0-8"
   ]
  },
  {
   "cell_type": "code",
   "execution_count": 26,
   "id": "0f3bf810",
   "metadata": {},
   "outputs": [
    {
     "name": "stdout",
     "output_type": "stream",
     "text": [
      "[[0 1 2]\n",
      " [3 4 5]\n",
      " [6 7 8]]\n"
     ]
    }
   ],
   "source": [
    "ans = np.arange(9).reshape(3,3)\n",
    "print(ans)"
   ]
  },
  {
   "cell_type": "markdown",
   "id": "3e8264ae",
   "metadata": {},
   "source": [
    "7. จงหาตำแหน่ง (index) ของสมาชิกที่มีค่าเท่ากับ 0 ภายใน array [5,-8,0,0,2,0]"
   ]
  },
  {
   "cell_type": "code",
   "execution_count": 7,
   "id": "0b393682",
   "metadata": {},
   "outputs": [
    {
     "name": "stdout",
     "output_type": "stream",
     "text": [
      "(array([2, 3, 5], dtype=int64),)\n"
     ]
    }
   ],
   "source": [
    "arr = np.array([5,-8,0,0,2,0])\n",
    "print(np.where(arr==0))"
   ]
  },
  {
   "cell_type": "markdown",
   "id": "4a4faf0e",
   "metadata": {},
   "source": [
    "8. จงสร้าง 3x3 identity matrix"
   ]
  },
  {
   "cell_type": "code",
   "execution_count": 8,
   "id": "30346ff1",
   "metadata": {},
   "outputs": [
    {
     "name": "stdout",
     "output_type": "stream",
     "text": [
      "[[1. 0. 0.]\n",
      " [0. 1. 0.]\n",
      " [0. 0. 1.]]\n"
     ]
    }
   ],
   "source": [
    "ans = np.eye(3,3)\n",
    "print(ans)"
   ]
  },
  {
   "cell_type": "markdown",
   "id": "4f95c0a5",
   "metadata": {},
   "source": [
    "9. จงสร้าง 3x3x3 array ของตัวเลขแบบสุ่ม"
   ]
  },
  {
   "cell_type": "code",
   "execution_count": 9,
   "id": "83082d05",
   "metadata": {},
   "outputs": [
    {
     "name": "stdout",
     "output_type": "stream",
     "text": [
      "[[[49 13 13]\n",
      "  [19 46 89]\n",
      "  [79 11 21]]\n",
      "\n",
      " [[96 19 12]\n",
      "  [37 84 65]\n",
      "  [70  4 64]]\n",
      "\n",
      " [[60 77 52]\n",
      "  [48 28 19]\n",
      "  [ 7 63 66]]]\n"
     ]
    }
   ],
   "source": [
    "ans = np.random.randint(100, size=(3,3,3))\n",
    "print(ans)"
   ]
  },
  {
   "cell_type": "markdown",
   "id": "217dd823",
   "metadata": {},
   "source": [
    "10. จงสร้าง array ขนาด 10x10 ของตัวเลขแบบสุ่ม และแสดงผลค่าตัวเลขที่มากที่สุดและน้อยที่สุดตามลำดับ"
   ]
  },
  {
   "cell_type": "code",
   "execution_count": 41,
   "id": "0f67e00e",
   "metadata": {},
   "outputs": [
    {
     "name": "stdout",
     "output_type": "stream",
     "text": [
      "[[97 93 69 14 12 55 78 18 66 83]\n",
      " [13  1 12 26 53 98 35 90 81 35]\n",
      " [74 64 29  3 56 29 94 57 23 81]\n",
      " [48 23 58 96 21  8  6  2 28 55]\n",
      " [63 87 74  9 60 49 71 36 51 63]\n",
      " [70 60 23 50 37 54 88 23 85 30]\n",
      " [91 31 15  6 16 93 89 26 61 16]\n",
      " [18 67 81 11 21 61 73 27 36 69]\n",
      " [ 5 88 38 11 47  0 74 32 60 48]\n",
      " [ 8 55 71  3 60 20  3 75 27  3]]\n",
      "98\n",
      "0\n"
     ]
    }
   ],
   "source": [
    "ans = np.random.randint(100, size=(10,10))\n",
    "print(ans)\n",
    "print(ans.max())\n",
    "print(ans.min())"
   ]
  },
  {
   "cell_type": "markdown",
   "id": "334ceaae",
   "metadata": {},
   "source": [
    "11. สร้าง Vector ของตัวเลขแบบสุ่มที่มีความยาว 40 หน่วย และแสดงผลค่าเฉลี่ยของชุดตัวเลขดังกล่าว"
   ]
  },
  {
   "cell_type": "code",
   "execution_count": 10,
   "id": "6f4f592d",
   "metadata": {},
   "outputs": [
    {
     "name": "stdout",
     "output_type": "stream",
     "text": [
      "[46 71 52 12 66 83  1 66 57 49 20 77 39 84 71 45 68  7 77 28 25 10 49 76\n",
      " 37 44 68 30 20 32 27 72 98 19 77 39  4 33 18 66]\n",
      "46.575\n"
     ]
    }
   ],
   "source": [
    "ans = np.random.randint(100, size=40)\n",
    "print(ans)\n",
    "print(ans.mean())"
   ]
  },
  {
   "cell_type": "markdown",
   "id": "b7718546",
   "metadata": {},
   "source": [
    "12. สร้าง array ขนาด 5x5 โดยกำหนดตัวเลขบริเวณขอบมีค่าเท่ากับ 1 และตัวเลขอื่นๆ มีค่าเท่ากับ 0"
   ]
  },
  {
   "cell_type": "code",
   "execution_count": 11,
   "id": "1fa7a7c6",
   "metadata": {},
   "outputs": [
    {
     "name": "stdout",
     "output_type": "stream",
     "text": [
      "[[1. 1. 1. 1. 1.]\n",
      " [1. 0. 0. 0. 1.]\n",
      " [1. 0. 0. 0. 1.]\n",
      " [1. 0. 0. 0. 1.]\n",
      " [1. 1. 1. 1. 1.]]\n"
     ]
    }
   ],
   "source": [
    "ans = np.zeros((5,5))\n",
    "ans[0] = 1\n",
    "ans[4] = 1\n",
    "ans[:,0] = 1\n",
    "ans[:,4] = 1\n",
    "print(ans)"
   ]
  },
  {
   "cell_type": "markdown",
   "id": "55a50273",
   "metadata": {},
   "source": [
    "13. เพิ่มขอบ (pad) ขนาด 1 หน่วยของ array จากข้อก่อนหน้า โดยกำหนดให้สมาชิกในขอบดังกล่าว มีค่าเท่ากับ 0"
   ]
  },
  {
   "cell_type": "code",
   "execution_count": 12,
   "id": "a4fd7ac8",
   "metadata": {},
   "outputs": [
    {
     "name": "stdout",
     "output_type": "stream",
     "text": [
      "[[0. 0. 0. 0. 0. 0. 0.]\n",
      " [0. 1. 1. 1. 1. 1. 0.]\n",
      " [0. 1. 0. 0. 0. 1. 0.]\n",
      " [0. 1. 0. 0. 0. 1. 0.]\n",
      " [0. 1. 0. 0. 0. 1. 0.]\n",
      " [0. 1. 1. 1. 1. 1. 0.]\n",
      " [0. 0. 0. 0. 0. 0. 0.]]\n"
     ]
    }
   ],
   "source": [
    "ans = np.zeros((7,7))\n",
    "ans[1] = 1\n",
    "ans[5] = 1\n",
    "ans[:,1] = 1\n",
    "ans[:,5] = 1\n",
    "ans[0] = 0\n",
    "ans[6] = 0\n",
    "ans[:,0] = 0\n",
    "ans[:,6] = 0\n",
    "print(ans)"
   ]
  },
  {
   "cell_type": "markdown",
   "id": "69169a85",
   "metadata": {},
   "source": [
    "14. สร้าง array ขนาด 5x5 โดยกำหนดให้สมาชิกในแนวทะแยงมีค่าเท่ากับ 1,2,3,4,5 และสมาชิกตำแหน่งอื่นๆ มีค่าเท่ากับ 0"
   ]
  },
  {
   "cell_type": "code",
   "execution_count": 13,
   "id": "1254cdb8",
   "metadata": {},
   "outputs": [
    {
     "name": "stdout",
     "output_type": "stream",
     "text": [
      "[[1 0 0 0 0]\n",
      " [0 2 0 0 0]\n",
      " [0 0 3 0 0]\n",
      " [0 0 0 4 0]\n",
      " [0 0 0 0 5]]\n"
     ]
    }
   ],
   "source": [
    "ans = np.eye(5,5, dtype=int)\n",
    "for i in range(5):\n",
    "    for j in range(5):\n",
    "        if i == j and i > 0 and j > 0:\n",
    "            ans[i,j] += i\n",
    "print(ans)"
   ]
  },
  {
   "cell_type": "markdown",
   "id": "b6bba094",
   "metadata": {},
   "source": [
    "15. สร้างของตัวเลข array ขนาด 8x8 โดยกำหนดให้สมาชิกใน array มีค่าเท่ากับ 0 และ 1 สลับกันไป (Checkboard pattern)"
   ]
  },
  {
   "cell_type": "code",
   "execution_count": 14,
   "id": "b4360fd2",
   "metadata": {},
   "outputs": [
    {
     "name": "stdout",
     "output_type": "stream",
     "text": [
      "[[0 1 0 1 0 1 0 1]\n",
      " [1 0 1 0 1 0 1 0]\n",
      " [0 1 0 1 0 1 0 1]\n",
      " [1 0 1 0 1 0 1 0]\n",
      " [0 1 0 1 0 1 0 1]\n",
      " [1 0 1 0 1 0 1 0]\n",
      " [0 1 0 1 0 1 0 1]\n",
      " [1 0 1 0 1 0 1 0]]\n"
     ]
    }
   ],
   "source": [
    "ans = np.zeros((8,8), dtype=int)\n",
    "for i in range(8):\n",
    "    for j in range(8):\n",
    "        if (i + j) % 2 == 0:\n",
    "            pass\n",
    "        else:\n",
    "            ans[i,j] = 1\n",
    "print(ans)"
   ]
  },
  {
   "cell_type": "markdown",
   "id": "0ec1afde",
   "metadata": {},
   "source": [
    "16. กำหนดให้ output คือ array ของตัวเลขแบบสุ่ม ขนาด (4,5,6) จงหาค่าตำแหน่ง (Index) ของสมาชิกตัวที่ 32"
   ]
  },
  {
   "cell_type": "code",
   "execution_count": 15,
   "id": "43b6f4a7",
   "metadata": {},
   "outputs": [
    {
     "name": "stdout",
     "output_type": "stream",
     "text": [
      "[[[54  6 65 43 86 69]\n",
      "  [ 2 27 53 55 41 61]\n",
      "  [89 92 36 78 48 64]\n",
      "  [87 31 12 67 94 54]\n",
      "  [ 0 90 44 22 85 93]]\n",
      "\n",
      " [[56 24 61 62 46 52]\n",
      "  [81 43  3 80 38  2]\n",
      "  [30 41 69  7 69 27]\n",
      "  [77 29 53 74 51  9]\n",
      "  [79 64 84 11 19 69]]\n",
      "\n",
      " [[17 44 73 52 26 17]\n",
      "  [85 90 48 84 76 60]\n",
      "  [19 24 51 39 50 71]\n",
      "  [29 89 81 86 31 65]\n",
      "  [55 95 14 77 67 77]]\n",
      "\n",
      " [[44 43 29 69 59 68]\n",
      "  [51 56 77 31 99 48]\n",
      "  [46 99 32 11 59 29]\n",
      "  [64 56 87 58 13 98]\n",
      "  [61 33 45 52  1 40]]]\n",
      "61\n"
     ]
    }
   ],
   "source": [
    "ans = np.random.randint(100, size=(4,5,6))\n",
    "print(ans)\n",
    "print(ans[1,0,2])"
   ]
  },
  {
   "cell_type": "markdown",
   "id": "1c4518f2",
   "metadata": {},
   "source": [
    "17. สร้าง Checkboard array ขนาด 10x10 โดยใช้ฟังก์ชัน tile (https://numpy.org/doc/stable/reference/generated/numpy.tile.html)"
   ]
  },
  {
   "cell_type": "code",
   "execution_count": 16,
   "id": "27e0b101",
   "metadata": {},
   "outputs": [
    {
     "name": "stdout",
     "output_type": "stream",
     "text": [
      "[[0 1 0 1 0 1 0 1 0 1]\n",
      " [1 0 1 0 1 0 1 0 1 0]\n",
      " [0 1 0 1 0 1 0 1 0 1]\n",
      " [1 0 1 0 1 0 1 0 1 0]\n",
      " [0 1 0 1 0 1 0 1 0 1]\n",
      " [1 0 1 0 1 0 1 0 1 0]\n",
      " [0 1 0 1 0 1 0 1 0 1]\n",
      " [1 0 1 0 1 0 1 0 1 0]\n",
      " [0 1 0 1 0 1 0 1 0 1]\n",
      " [1 0 1 0 1 0 1 0 1 0]]\n"
     ]
    }
   ],
   "source": [
    "ans = np.array([[0,1],[1,0]])\n",
    "ans = np.tile(ans,(5,5))\n",
    "print(ans)"
   ]
  },
  {
   "cell_type": "markdown",
   "id": "73106487",
   "metadata": {},
   "source": [
    "18. สร้าง vector ของตัวเลขแบบสุ่มความยาว 10 หน่วยและทำการเรียงลำดับจากน้อยไปมาก"
   ]
  },
  {
   "cell_type": "code",
   "execution_count": 17,
   "id": "5a38a2ae",
   "metadata": {},
   "outputs": [
    {
     "name": "stdout",
     "output_type": "stream",
     "text": [
      "[10 13 17 25 28 46 49 57 79 84]\n"
     ]
    }
   ],
   "source": [
    "ans = np.random.randint(100, size=10)\n",
    "ans.sort()\n",
    "print(ans)"
   ]
  },
  {
   "cell_type": "markdown",
   "id": "e482e0c5",
   "metadata": {},
   "source": [
    "19. สร้าง vector ของตัวเลขแบบสุ่มความยาว 10 หน่วยและทำการเรียงลำดับจากมากไปน้อย"
   ]
  },
  {
   "cell_type": "code",
   "execution_count": 18,
   "id": "782ab43d",
   "metadata": {},
   "outputs": [
    {
     "name": "stdout",
     "output_type": "stream",
     "text": [
      "[85 80 78 55 50 47 30 23  9  4]\n"
     ]
    }
   ],
   "source": [
    "ans = np.random.randint(100, size=10)\n",
    "ans.sort()\n",
    "print(ans[::-1])"
   ]
  },
  {
   "cell_type": "markdown",
   "id": "030d5754",
   "metadata": {},
   "source": [
    "20. สร้าง array ขนาด 10x2 ของตัวเลขแบบสุ่ม ทำการเรียงลำดับตัวเลขในแต่ล่ะหลักจากน้อยไปมาก"
   ]
  },
  {
   "cell_type": "code",
   "execution_count": 19,
   "id": "d9e5b6f9",
   "metadata": {},
   "outputs": [
    {
     "name": "stdout",
     "output_type": "stream",
     "text": [
      "[[12  5]\n",
      " [29 19]\n",
      " [31 22]\n",
      " [33 28]\n",
      " [39 30]\n",
      " [44 32]\n",
      " [69 37]\n",
      " [69 67]\n",
      " [73 79]\n",
      " [98 97]]\n"
     ]
    }
   ],
   "source": [
    "ans = np.random.randint(100, size=(10,2))\n",
    "ans.sort(axis=0)\n",
    "print(ans)"
   ]
  },
  {
   "cell_type": "markdown",
   "id": "0d5afa78",
   "metadata": {},
   "source": [
    "21. สร้าง array ขนาด 10x2 ของตัวเลขแบบสุ่ม ทำการเรียงลำดับตัวเลขในแต่ล่ะหลักจากมากไปน้อย"
   ]
  },
  {
   "cell_type": "code",
   "execution_count": 20,
   "id": "20e7419b",
   "metadata": {},
   "outputs": [
    {
     "name": "stdout",
     "output_type": "stream",
     "text": [
      "[[84 73]\n",
      " [73 67]\n",
      " [71 65]\n",
      " [58 60]\n",
      " [48 57]\n",
      " [32 51]\n",
      " [22 47]\n",
      " [17 39]\n",
      " [16 29]\n",
      " [ 5  2]]\n"
     ]
    }
   ],
   "source": [
    "ans = np.random.randint(100, size=(10,2))\n",
    "ans.sort(axis=0)\n",
    "print(ans[::-1])"
   ]
  },
  {
   "cell_type": "markdown",
   "id": "ef150d64",
   "metadata": {},
   "source": [
    "22. สร้าง array ขนาด 10x2 ของตัวเลขแบบสุ่ม ทำการเรียงลำดับตัวเลขในแต่ล่ะแถวจากน้อยไปมาก"
   ]
  },
  {
   "cell_type": "code",
   "execution_count": 21,
   "id": "4e8a8563",
   "metadata": {},
   "outputs": [
    {
     "name": "stdout",
     "output_type": "stream",
     "text": [
      "[[ 9 48]\n",
      " [25 30]\n",
      " [26 86]\n",
      " [50 82]\n",
      " [22 55]\n",
      " [26 88]\n",
      " [46 81]\n",
      " [57 80]\n",
      " [58 61]\n",
      " [22 80]]\n"
     ]
    }
   ],
   "source": [
    "ans = np.random.randint(100, size=(10,2))\n",
    "ans.sort(axis=1)\n",
    "print(ans)"
   ]
  },
  {
   "cell_type": "markdown",
   "id": "1f26b535",
   "metadata": {},
   "source": [
    "23. สร้าง array ขนาด 10x2 ของตัวเลขแบบสุ่ม ทำการเรียงลำดับตัวเลขในแต่ล่ะแถวจากมากไปน้อย"
   ]
  },
  {
   "cell_type": "code",
   "execution_count": 22,
   "id": "ac6eb154",
   "metadata": {},
   "outputs": [
    {
     "name": "stdout",
     "output_type": "stream",
     "text": [
      "[[42 40]\n",
      " [53 15]\n",
      " [97 30]\n",
      " [68  4]\n",
      " [35  4]\n",
      " [94 66]\n",
      " [27 15]\n",
      " [49 47]\n",
      " [17  2]\n",
      " [62 15]]\n"
     ]
    }
   ],
   "source": [
    "ans = np.random.randint(100, size=(10,2))\n",
    "ans.sort(axis=1)\n",
    "print(ans[::,::-1])"
   ]
  },
  {
   "cell_type": "markdown",
   "id": "524dddea",
   "metadata": {},
   "source": [
    "24. สร้าง array ของตัวเลขแบบสุ่มขนาด 10x2 จำนวน 2 อันและนำมาต่อกันให้ได้ array ผลลัพธ์ขนาด 20*2"
   ]
  },
  {
   "cell_type": "code",
   "execution_count": 23,
   "id": "060012cf",
   "metadata": {},
   "outputs": [
    {
     "name": "stdout",
     "output_type": "stream",
     "text": [
      "[[19  0]\n",
      " [28 13]\n",
      " [49 52]\n",
      " [45 91]\n",
      " [ 6 55]\n",
      " [25 18]\n",
      " [52 59]\n",
      " [64 92]\n",
      " [69 89]\n",
      " [80 84]\n",
      " [82 72]\n",
      " [18 90]\n",
      " [98 35]\n",
      " [68 84]\n",
      " [ 6 26]\n",
      " [84 94]\n",
      " [78 68]\n",
      " [21 12]\n",
      " [79 80]\n",
      " [20 37]]\n"
     ]
    }
   ],
   "source": [
    "arr_1 = np.random.randint(100, size=(10,2))\n",
    "arr_2 = np.random.randint(100, size=(10,2))\n",
    "ans = np.concatenate((arr_1,arr_2), axis=0)\n",
    "print(ans)"
   ]
  },
  {
   "cell_type": "markdown",
   "id": "2223325f",
   "metadata": {},
   "source": [
    "25. สร้าง array ของตัวเลขแบบสุ่มขนาด 10x2 จำนวน 2 อันและนำมาต่อกันให้ได้ array ผลลัพธ์ขนาด 10*4"
   ]
  },
  {
   "cell_type": "code",
   "execution_count": 24,
   "id": "c4fe1b32",
   "metadata": {},
   "outputs": [
    {
     "name": "stdout",
     "output_type": "stream",
     "text": [
      "[[58 51 91 65]\n",
      " [78 92 12  5]\n",
      " [58 62 73 36]\n",
      " [96 61 72 43]\n",
      " [34 97 29 86]\n",
      " [60 86 28 66]\n",
      " [ 7 17 21 54]\n",
      " [38 49 55 86]\n",
      " [40 75 57 72]\n",
      " [78 40 88 60]]\n"
     ]
    }
   ],
   "source": [
    "arr_1 = np.random.randint(100, size=(10,2))\n",
    "arr_2 = np.random.randint(100, size=(10,2))\n",
    "ans = np.concatenate((arr_1,arr_2), axis=1)\n",
    "print(ans)"
   ]
  },
  {
   "cell_type": "markdown",
   "id": "9735dc05",
   "metadata": {},
   "source": [
    "26.สร้าง array ขนาด (3,) ของ [('apple', 256), ('oragne', 124), ('banana', 924)] กำหนดให้ ข้อมูลในแต่ล่ะหลัก มีชื่อว่า name และ pid ตามลำดับ พร้อมทั้งกำหนด data type ของข้อมูล คือ ข้อความและตัวเลขตามลำดับ และเรียงลำดับข้อมูลตามชื่อผลไม้ (ในหลักแรก) ตามตัวอักษร"
   ]
  },
  {
   "cell_type": "code",
   "execution_count": 25,
   "id": "69731cc5",
   "metadata": {},
   "outputs": [
    {
     "name": "stdout",
     "output_type": "stream",
     "text": [
      "[('apple', 256) ('banana', 924) ('oragne', 124)]\n"
     ]
    }
   ],
   "source": [
    "col_name = np.dtype([('name','U100'),('pid','int64')])\n",
    "fruits = np.array([('apple', 256), ('oragne', 124), ('banana', 924)], dtype=col_name)\n",
    "ans = np.sort(fruits, order='name')\n",
    "print(ans)"
   ]
  },
  {
   "cell_type": "markdown",
   "id": "42c62375",
   "metadata": {},
   "source": [
    "27.สร้าง array ขนาด (3,) ของ [('apple', 256), ('oragne', 124), ('banana', 924)] กำหนดให้ ข้อมูลในแต่ล่ะหลัก มีชื่อว่า name และ pid ตามลำดับ พร้อมทั้งกำหนด data type ของข้อมูล คือ ข้อความและตัวเลขตามลำดับ และเรียงลำดับข้อมูลตามรหัสสินค้า (ในหลักที่สอง) จากมากไปน้อย"
   ]
  },
  {
   "cell_type": "code",
   "execution_count": 26,
   "id": "72298beb",
   "metadata": {},
   "outputs": [
    {
     "name": "stdout",
     "output_type": "stream",
     "text": [
      "[('banana', 924) ('apple', 256) ('oragne', 124)]\n"
     ]
    }
   ],
   "source": [
    "col_name = np.dtype([('name','U100'),('pid','int64')])\n",
    "fruits = np.array([('apple', 256), ('oragne', 124), ('banana', 924)], dtype=col_name)\n",
    "ans = np.sort(fruits, order='pid')\n",
    "print(ans[::-1])"
   ]
  },
  {
   "cell_type": "markdown",
   "id": "4b8a9a42",
   "metadata": {},
   "source": [
    "28. สร้าง array ขนาด 3*2 ของ [['apple', 2.56], ['oragne', -1.24], ['banana', 9.24]] และเรียงลำดับข้อมูลตามชื่อผลไม้ (ในหลักแรก) ตามตัวอักษร"
   ]
  },
  {
   "cell_type": "code",
   "execution_count": 26,
   "id": "456918cc",
   "metadata": {},
   "outputs": [
    {
     "name": "stdout",
     "output_type": "stream",
     "text": [
      "[('apple',  2.56) ('banana',  9.24) ('oragne', -1.24)]\n"
     ]
    }
   ],
   "source": [
    "fruits_lis = np.array([['apple', 2.56], ['oragne', -1.24], ['banana', 9.24]])\n",
    "col_name = np.dtype([('name','U100'),('pid',np.float16)])\n",
    "fruits_tup = []\n",
    "for i in range(fruits_lis.shape[0]):\n",
    "    fruits_tup.append(tuple(fruits_lis[i]))\n",
    "fruits_tup = np.array(fruits_tup, dtype=col_name)\n",
    "ans = np.sort(fruits_tup, order='name')\n",
    "print(ans)"
   ]
  },
  {
   "cell_type": "markdown",
   "id": "d825b5eb",
   "metadata": {},
   "source": [
    "29. สร้าง array ขนาด 3*2 ของ [['apple', 2.56], ['oragne', -1.24], ['banana', 9.24]] และเรียงลำดับข้อมูลตามราคา (ในหลักที่ 2) จากมากไปน้อย"
   ]
  },
  {
   "cell_type": "code",
   "execution_count": 29,
   "id": "da41ecca",
   "metadata": {},
   "outputs": [
    {
     "name": "stdout",
     "output_type": "stream",
     "text": [
      "[('banana',  9.24) ('apple',  2.56) ('oragne', -1.24)]\n"
     ]
    }
   ],
   "source": [
    "fruits_lis = np.array([['apple', 2.56], ['oragne', -1.24], ['banana', 9.24]])\n",
    "col_name = np.dtype([('name','U100'),('pid',np.float16)])\n",
    "fruits_tup = []\n",
    "for i in range(fruits_lis.shape[0]):\n",
    "    fruits_tup.append(tuple(fruits_lis[i]))\n",
    "fruits_tup = np.array(fruits_tup, dtype=col_name)\n",
    "ans = np.sort(fruits_tup, order='pid')[::-1]\n",
    "print(ans)"
   ]
  },
  {
   "cell_type": "markdown",
   "id": "1510de52",
   "metadata": {},
   "source": [
    "30.สร้าง vector ของตัวเลขแบบสุ่มในช่วง 1-10 จำนวน 100 ตัวเลข และแสดงความถี่ของตัวเลขแต่ล่ะตัวภายใน vector"
   ]
  },
  {
   "cell_type": "code",
   "execution_count": 28,
   "id": "3fd2e7d6",
   "metadata": {},
   "outputs": [
    {
     "name": "stdout",
     "output_type": "stream",
     "text": [
      "[10  6  1  1  1  8  5  2  1  1  7  7  3  4  8  3  8  8  6  3  5  3  1  5\n",
      "  7  2  8  4  2  8  3  4  4 10 10  4  9  3  1  5  6  1 10  3  9 10  8  7\n",
      "  3  5  1  7  5  4  7  2  7  1  2  8  5 10  1  2  2  7  3  2  5  2  4  8\n",
      "  9  3  1  9  7  1  2  7  4 10  5  1  4  2  4  3  2  8  2  3  3  8  3  8\n",
      "  5  9  8  3]\n",
      "เลข 1 = 14 ตัว\n",
      "เลข 2 = 13 ตัว\n",
      "เลข 3 = 15 ตัว\n",
      "เลข 4 = 10 ตัว\n",
      "เลข 5 = 10 ตัว\n",
      "เลข 6 = 3 ตัว\n",
      "เลข 7 = 10 ตัว\n",
      "เลข 8 = 13 ตัว\n",
      "เลข 9 = 5 ตัว\n",
      "เลข 10 = 7 ตัว\n"
     ]
    }
   ],
   "source": [
    "ans = np.random.randint(1,11,100)\n",
    "print(ans)\n",
    "for num in range(10):\n",
    "    print(\"เลข\", num + 1, \"=\", len(ans[ans == num + 1]), \"ตัว\")"
   ]
  },
  {
   "cell_type": "markdown",
   "id": "648e8db8",
   "metadata": {},
   "source": [
    "31. สร้าง $3\\times3$ Matrix และ ทำการ Transpose\n",
    "\n",
    "$matrix = \\begin{bmatrix}1 & 2 & 3\\\\4 & 5 & 6\\\\7 & 8 & 9\\end{bmatrix}$\n",
    "\n",
    "$matrix\\_transpose = \\begin{bmatrix}1 & 2 & 3\\\\4 & 5 & 6\\\\7 & 8 & 9\\end{bmatrix}^{\\ \\ \\intercal} = \\begin{bmatrix}1 & 4 & 7\\\\2 & 5 & 8\\\\3 & 6 & 9\\end{bmatrix}$"
   ]
  },
  {
   "cell_type": "code",
   "execution_count": 30,
   "id": "29452816",
   "metadata": {},
   "outputs": [
    {
     "name": "stdout",
     "output_type": "stream",
     "text": [
      "[[1 4 7]\n",
      " [2 5 8]\n",
      " [3 6 9]]\n"
     ]
    }
   ],
   "source": [
    "ans = np.arange(1,10)\n",
    "ans = ans.reshape(3,3)\n",
    "ans = ans.transpose()\n",
    "print(ans)"
   ]
  },
  {
   "cell_type": "markdown",
   "id": "017e547c",
   "metadata": {},
   "source": [
    "32. จากข้อมูลในข้อ 17 จงเปลี่ยนรูปแบบให้อยู่ในรูป 1xN Array"
   ]
  },
  {
   "cell_type": "code",
   "execution_count": 29,
   "id": "d5193c8e",
   "metadata": {},
   "outputs": [
    {
     "name": "stdout",
     "output_type": "stream",
     "text": [
      "[0 1 0 1 0 1 0 1 0 1 1 0 1 0 1 0 1 0 1 0 0 1 0 1 0 1 0 1 0 1 1 0 1 0 1 0 1\n",
      " 0 1 0 0 1 0 1 0 1 0 1 0 1 1 0 1 0 1 0 1 0 1 0 0 1 0 1 0 1 0 1 0 1 1 0 1 0\n",
      " 1 0 1 0 1 0 0 1 0 1 0 1 0 1 0 1 1 0 1 0 1 0 1 0 1 0]\n"
     ]
    }
   ],
   "source": [
    "ans = np.array([[0,1],[1,0]])\n",
    "ans = np.tile(ans,(5,5))\n",
    "print(ans.flatten())"
   ]
  },
  {
   "cell_type": "markdown",
   "id": "a3960572",
   "metadata": {},
   "source": [
    "33. ทำการหา inverse ของ \n",
    "$matrix = \\begin{bmatrix}1 & 2\\\\3 & 4\\end{bmatrix}$"
   ]
  },
  {
   "cell_type": "code",
   "execution_count": 5,
   "id": "cd7d3acf",
   "metadata": {},
   "outputs": [
    {
     "name": "stdout",
     "output_type": "stream",
     "text": [
      "[[-2.   1. ]\n",
      " [ 1.5 -0.5]]\n"
     ]
    }
   ],
   "source": [
    "ans = np.array([[1,2],[3,4]])\n",
    "invert = np.linalg.inv(ans)\n",
    "print(invert)"
   ]
  },
  {
   "cell_type": "markdown",
   "id": "b8a7759e",
   "metadata": {},
   "source": [
    "34. สร้าง Array 1x10 ที่เก็บข้อมูลน้ำหนัก และ Array 1x10 ที่เก็บข้อมูลความสูงของนักศึกษา จำนวน 100 คน โดย ข้อมูลน้ำหนักให้ทำการสุ่มตัวเลขในช่วง 45 - 90 และ ข้อมูลความสูงให้ทำการสุ่มข้อมูลในช่วง 150 - 180\n",
    "\n",
    "<center>$BMI = \\frac{Weight\\ (kg)}{Height^2\\ (m)}\\ \\ \\ \\ \\ \\ \\ \\ \\ \\ \\ \\ \\ \\ $</center>\n",
    "\n",
    "34.1) จงหาจำนวนนักเรียนที่มีค่า BMI เกิน 22\n",
    "\n",
    "34.2) จงหาค่า Mean, Median, Standard Deviation ของค่า BMI"
   ]
  },
  {
   "cell_type": "code",
   "execution_count": 9,
   "id": "71d83180",
   "metadata": {},
   "outputs": [
    {
     "name": "stdout",
     "output_type": "stream",
     "text": [
      "34.1) จำนวนนักเรียนที่มีค่าBMIเกิน22 = 65 คน\n",
      "34.2) ค่าMeanของค่าBMI = 25.178023\n",
      "34.2) ค่าMeadianของค่าBMI = 24.535124\n",
      "34.2) ค่าStandard Deviationของค่าBMI = 5.593178\n"
     ]
    }
   ],
   "source": [
    "weight = np.random.randint(45,91, size=(1,100))\n",
    "high = np.random.randint(150,181, size=(1,100))\n",
    "bmi = weight / ((high / 100) ** 2)\n",
    "print(\"34.1) จำนวนนักเรียนที่มีค่าBMIเกิน22 = %d คน\" %len(bmi[bmi > 22]))\n",
    "print(\"34.2) ค่าMeanของค่าBMI = %f\" %np.mean(bmi))\n",
    "print(\"34.2) ค่าMeadianของค่าBMI = %f\" %np.median(bmi))\n",
    "print(\"34.2) ค่าStandard Deviationของค่าBMI = %f\" %np.std(bmi))"
   ]
  },
  {
   "cell_type": "markdown",
   "id": "7bc771dd",
   "metadata": {},
   "source": [
    "35. สร้าง Array ค่าคะแนนของนักศึกษาโดยการสุ่มตัวเลขในช่วง 0 - 100 จำนวน 100 ค่า และ ทำการจำแนกเกรดของนักศึกษาตามตารางด้านล่าง\n",
    "\n",
    "| Grade | Point | Score |\n",
    "| --- | --- | --- |\n",
    "| A | 4.0 | >=80 |\n",
    "| B+ | 3.5 | >=75 |\n",
    "| B | 3.0 | >=70 |\n",
    "| C+ | 2.5 | >=65 |\n",
    "| C | 2.0 | >=60 |\n",
    "| D+ | 1.5 | >=55 |\n",
    "| D | 1.0 | >=50 |\n",
    "| F | 0.0 | <50 |\n",
    "\n",
    "EX.\n",
    "\n",
    " $scores = \\begin{bmatrix}10 & 50 & 40 & 60 & 75 & 100\\end{bmatrix}$ //ตัวอย่างข้อมูล\n",
    " \n",
    " $answer = \\begin{bmatrix}F & D & F & C & B+ & A\\end{bmatrix}$ //คำตอบ"
   ]
  },
  {
   "cell_type": "code",
   "execution_count": 31,
   "id": "3fc19dee",
   "metadata": {},
   "outputs": [
    {
     "name": "stdout",
     "output_type": "stream",
     "text": [
      "A : [ 97  96  87  98 100  91  91  81  89  95  91  93  83  97  89  82  93  88\n",
      "  93]\n",
      "B+ : [76 79 77]\n",
      "B : [73 70 71 71 73 74]\n",
      "C+ : [65 69 69]\n",
      "C : [64 64]\n",
      "D+ : [58 55 58 57 55]\n",
      "D : [53 52 51 54 53]\n",
      "F : [36 46 33 38 43 31 43 15 17 44 38 45 46 24 21 40 32  7  1 27 14 22 42 38\n",
      " 20  3 38 49 24 41 39 48  4 33 26  6 25  1 38  4  8 22  0  2 40 36  6  7\n",
      "  8 39 29  2 34 33 47 39  8]\n"
     ]
    }
   ],
   "source": [
    "scores = np.random.randint(101, size=100)\n",
    "print(\"A :\", scores[scores >= 80])\n",
    "scores = scores[scores < 80]\n",
    "print(\"B+ :\", scores[75 <= scores])\n",
    "scores = scores[scores < 75]\n",
    "print(\"B :\", scores[70 <= scores])\n",
    "scores = scores[scores < 70]\n",
    "print(\"C+ :\", scores[65 <= scores])\n",
    "scores = scores[scores < 65]\n",
    "print(\"C :\", scores[60 <= scores])\n",
    "scores = scores[scores < 60]\n",
    "print(\"D+ :\", scores[55 <= scores])\n",
    "scores = scores[scores < 55]\n",
    "print(\"D :\", scores[50 <= scores])\n",
    "print(\"F :\", scores[scores < 50])"
   ]
  },
  {
   "cell_type": "code",
   "execution_count": null,
   "id": "c738b7fa",
   "metadata": {},
   "outputs": [],
   "source": []
  }
 ],
 "metadata": {
  "kernelspec": {
   "display_name": "Python 3",
   "language": "python",
   "name": "python3"
  },
  "language_info": {
   "codemirror_mode": {
    "name": "ipython",
    "version": 3
   },
   "file_extension": ".py",
   "mimetype": "text/x-python",
   "name": "python",
   "nbconvert_exporter": "python",
   "pygments_lexer": "ipython3",
   "version": "3.10.8"
  },
  "vscode": {
   "interpreter": {
    "hash": "d26ad3bfedc465a77add67f487fe9e5dd0d7c02b4e328c221a0d21eec9a3898a"
   }
  }
 },
 "nbformat": 4,
 "nbformat_minor": 5
}
