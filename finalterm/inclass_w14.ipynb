{
 "cells": [
  {
   "attachments": {},
   "cell_type": "markdown",
   "metadata": {},
   "source": [
    "# Kor 1"
   ]
  },
  {
   "cell_type": "code",
   "execution_count": 1,
   "metadata": {},
   "outputs": [],
   "source": [
    "import random\n",
    "class Game:\n",
    "    def __init__(self, player_1, player_2=\"computer\"):\n",
    "        self.py1 = player_1\n",
    "        self.py2 = player_2\n",
    "        self._sc1 = 0\n",
    "        self._sc2 = 0\n",
    "    def play(self):\n",
    "        pass\n",
    "    def reset(self):\n",
    "        self._sc1 = 0\n",
    "        self._sc2 = 0\n",
    "    def printScore(self):\n",
    "        print(\"{} score: {}\".format(self.py1, self._sc1))\n",
    "        print(\"{} score: {}\".format(self.py2, self._sc2))\n",
    "        print()\n",
    "    def __str__(self):\n",
    "        output = f'Player 1: {self.py1}'\n",
    "        output += f'\\nPlayer 2: {self.py2}'\n",
    "        output += '\\n------------------------'\n",
    "        return output\n",
    "class RPS(Game):\n",
    "    def __init__(self, player_1, player_2=\"computer\"):\n",
    "        Game.__init__(self, player_1, player_2)\n",
    "    def play(self, at_1, at_2=\"com\"):\n",
    "        if at_2 == \"com\":\n",
    "            at_2 = random.choice(['rock', 'scissor', 'paper'])\n",
    "        print(\"{}: {}\".format(self.py1, at_1))\n",
    "        print(\"{}: {}\".format(self.py2, at_2))\n",
    "        win = \"\"\n",
    "        if at_1 == 'rock' and at_2 == 'rock':\n",
    "            win = \"-\"\n",
    "        elif at_1 == 'rock' and at_2 == 'scissor':\n",
    "            win = self.py1\n",
    "            self._sc1 += 1\n",
    "        elif at_1 == 'rock' and at_2 == 'paper':\n",
    "            win = self.py2\n",
    "            self._sc2 += 1\n",
    "        elif at_1 == 'scissor' and at_2 == 'rock':\n",
    "            win = self.py2\n",
    "            self._sc2 += 1\n",
    "        elif at_1 == 'scissor' and at_2 == 'scissor':\n",
    "            win = \"-\"\n",
    "        elif at_1 == 'scissor' and at_2 == 'paper':\n",
    "            win = self.py1\n",
    "            self._sc1 += 1\n",
    "        elif at_1 == 'paper' and at_2 == 'rock':\n",
    "            win = self.py1\n",
    "            self._sc1 += 1\n",
    "        elif at_1 == 'paper' and at_2 == 'scissor':\n",
    "            win = self.py2\n",
    "            self._sc2 += 1\n",
    "        elif at_1 == 'paper' and at_2 == 'paper':\n",
    "            win = \"-\"\n",
    "        print(\"Winner: {}\".format(win))\n",
    "        print(\"------------------------\")\n",
    "    def __str__(self):\n",
    "        return Game.__str__(self)"
   ]
  },
  {
   "cell_type": "code",
   "execution_count": 2,
   "metadata": {},
   "outputs": [
    {
     "name": "stdout",
     "output_type": "stream",
     "text": [
      "Player 1: Tom\n",
      "Player 2: computer\n",
      "------------------------\n",
      "Tom score: 0\n",
      "computer score: 0\n",
      "\n",
      "Player 1: Tom\n",
      "Player 2: Atom\n",
      "------------------------\n",
      "Tom score: 0\n",
      "Atom score: 0\n",
      "\n"
     ]
    }
   ],
   "source": [
    "game_0 = Game('Tom')\n",
    "print(game_0)\n",
    "game_0.printScore()\n",
    "\n",
    "game_1 = Game('Tom', 'Atom')\n",
    "print(game_1)\n",
    "game_1.printScore()"
   ]
  },
  {
   "cell_type": "code",
   "execution_count": 3,
   "metadata": {},
   "outputs": [
    {
     "name": "stdout",
     "output_type": "stream",
     "text": [
      "Tom: scissor\n",
      "Atom: paper\n",
      "Winner: Tom\n",
      "------------------------\n",
      "Tom: rock\n",
      "Atom: paper\n",
      "Winner: Atom\n",
      "------------------------\n",
      "Tom: rock\n",
      "Atom: scissor\n",
      "Winner: Tom\n",
      "------------------------\n",
      "Tom score: 2\n",
      "Atom score: 1\n",
      "\n"
     ]
    }
   ],
   "source": [
    "game_3 = RPS('Tom', 'Atom')\n",
    "game_3.play('scissor', 'paper')\n",
    "game_3.play('rock', 'paper')\n",
    "game_3.play('rock', 'scissor')\n",
    "game_3.printScore()"
   ]
  },
  {
   "cell_type": "code",
   "execution_count": 4,
   "metadata": {},
   "outputs": [
    {
     "name": "stdout",
     "output_type": "stream",
     "text": [
      "Tom: paper\n",
      "computer: scissor\n",
      "Winner: computer\n",
      "------------------------\n",
      "Tom: rock\n",
      "computer: scissor\n",
      "Winner: Tom\n",
      "------------------------\n",
      "Tom: scissor\n",
      "computer: paper\n",
      "Winner: Tom\n",
      "------------------------\n",
      "Tom score: 2\n",
      "computer score: 1\n",
      "\n"
     ]
    }
   ],
   "source": [
    "game_2 = RPS('Tom')\n",
    "game_2.play('paper')\n",
    "game_2.play('rock')\n",
    "game_2.play('scissor')\n",
    "game_2.printScore()"
   ]
  },
  {
   "attachments": {},
   "cell_type": "markdown",
   "metadata": {},
   "source": [
    "# Kor 2"
   ]
  },
  {
   "cell_type": "code",
   "execution_count": 5,
   "metadata": {},
   "outputs": [],
   "source": [
    "import random\n",
    "class Game:\n",
    "    def __init__(self, player_1, player_2=\"computer\"):\n",
    "        self.py1 = player_1\n",
    "        self.py2 = player_2\n",
    "        self.__sc1 = 0\n",
    "        self.__sc2 = 0\n",
    "    def play(self):\n",
    "        pass\n",
    "    def reset(self):\n",
    "        self.__sc1 = 0\n",
    "        self.__sc2 = 0\n",
    "    def printScore(self):\n",
    "        print(\"{} score: {}\".format(self.py1, self.__sc1))\n",
    "        print(\"{} score: {}\".format(self.py2, self.__sc2))\n",
    "        print()\n",
    "    def _updateScore(self, win):\n",
    "        if win == self.py1:\n",
    "            self.__sc1 += 1\n",
    "        elif win == self.py2:\n",
    "            self.__sc2 += 1\n",
    "        elif win == \"-\":\n",
    "            pass\n",
    "    def __str__(self):\n",
    "        output = f'Player 1: {self.py1}'\n",
    "        output += f'\\nPlayer 2: {self.py2}'\n",
    "        output += '\\n------------------------'\n",
    "        return output\n",
    "class RPS(Game):\n",
    "    def __init__(self, player_1, player_2=\"computer\"):\n",
    "        Game.__init__(self, player_1, player_2)\n",
    "    def play(self, at_1, at_2=\"com\"):\n",
    "        if at_2 == \"com\":\n",
    "            at_2 = random.choice(['rock', 'scissor', 'paper'])\n",
    "        print(\"{}: {}\".format(self.py1, at_1))\n",
    "        print(\"{}: {}\".format(self.py2, at_2))\n",
    "        win = \"\"\n",
    "        if (at_1 == 'rock' and at_2 == 'rock') or (at_1 == 'scissor' and at_2 == 'scissor') or (at_1 == 'paper' and at_2 == 'paper'):\n",
    "            win = \"-\"\n",
    "        elif (at_1 == 'rock' and at_2 == 'scissor') or (at_1 == 'scissor' and at_2 == 'paper') or (at_1 == 'paper' and at_2 == 'rock'):\n",
    "            win = self.py1\n",
    "        else:\n",
    "            win = self.py2\n",
    "        self._updateScore(win)\n",
    "        print(\"Winner: {}\".format(win))\n",
    "        print(\"------------------------\")\n",
    "    def __str__(self):\n",
    "        return Game.__str__(self)"
   ]
  },
  {
   "cell_type": "code",
   "execution_count": 6,
   "metadata": {},
   "outputs": [
    {
     "name": "stdout",
     "output_type": "stream",
     "text": [
      "Tom: scissor\n",
      "Atom: paper\n",
      "Winner: Tom\n",
      "------------------------\n",
      "Tom: rock\n",
      "Atom: paper\n",
      "Winner: Atom\n",
      "------------------------\n",
      "Tom: rock\n",
      "Atom: scissor\n",
      "Winner: Tom\n",
      "------------------------\n",
      "Tom score: 2\n",
      "Atom score: 1\n",
      "\n"
     ]
    }
   ],
   "source": [
    "game_3 = RPS('Tom', 'Atom')\n",
    "game_3.play('scissor', 'paper')\n",
    "game_3.play('rock', 'paper')\n",
    "game_3.play('rock', 'scissor')\n",
    "game_3.printScore()"
   ]
  },
  {
   "cell_type": "code",
   "execution_count": 7,
   "metadata": {},
   "outputs": [
    {
     "name": "stdout",
     "output_type": "stream",
     "text": [
      "Tom: paper\n",
      "computer: paper\n",
      "Winner: -\n",
      "------------------------\n",
      "Tom: rock\n",
      "computer: paper\n",
      "Winner: computer\n",
      "------------------------\n",
      "Tom: scissor\n",
      "computer: rock\n",
      "Winner: computer\n",
      "------------------------\n",
      "Tom score: 0\n",
      "computer score: 2\n",
      "\n"
     ]
    }
   ],
   "source": [
    "game_2 = RPS('Tom')\n",
    "game_2.play('paper')\n",
    "game_2.play('rock')\n",
    "game_2.play('scissor')\n",
    "game_2.printScore()"
   ]
  }
 ],
 "metadata": {
  "kernelspec": {
   "display_name": "Python 3",
   "language": "python",
   "name": "python3"
  },
  "language_info": {
   "codemirror_mode": {
    "name": "ipython",
    "version": 3
   },
   "file_extension": ".py",
   "mimetype": "text/x-python",
   "name": "python",
   "nbconvert_exporter": "python",
   "pygments_lexer": "ipython3",
   "version": "3.10.8"
  },
  "orig_nbformat": 4
 },
 "nbformat": 4,
 "nbformat_minor": 2
}
