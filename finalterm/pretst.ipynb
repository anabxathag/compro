{
 "cells": [
  {
   "attachments": {},
   "cell_type": "markdown",
   "metadata": {},
   "source": [
    "# Kor 1 (W9)"
   ]
  },
  {
   "cell_type": "code",
   "execution_count": 30,
   "metadata": {},
   "outputs": [
    {
     "name": "stdout",
     "output_type": "stream",
     "text": [
      "pParke\n",
      "PetPro509\n"
     ]
    }
   ],
   "source": [
    "import random as rd\n",
    "def create_uname(ant, dog):\n",
    "    fir = ant[0].lower()\n",
    "    sur = dog[:5].capitalize()\n",
    "    return fir + sur\n",
    "def create_password(fir, sur):\n",
    "    fir = [i for i in fir]\n",
    "    sur = [i for i in sur]\n",
    "    wodpas = \"\"\n",
    "    for i in range(9):\n",
    "        if i <= 2:\n",
    "            cum = rd.choice(fir)\n",
    "            wodpas += cum\n",
    "            fir.remove(cum)\n",
    "        elif 2 < i <= 5:\n",
    "            cum = rd.choice(sur)\n",
    "            wodpas += cum\n",
    "            sur.remove(cum)\n",
    "        elif i >= 6:\n",
    "            wodpas += str(rd.randrange(0,10))\n",
    "    return wodpas\n",
    "def main():\n",
    "    fir = \"Peter\"\n",
    "    sur = \"Parkerson\"\n",
    "    user_name = create_uname(fir, sur)\n",
    "    pasowod = create_password(fir, sur)\n",
    "    print(user_name)\n",
    "    print(pasowod)\n",
    "main()"
   ]
  },
  {
   "attachments": {},
   "cell_type": "markdown",
   "metadata": {},
   "source": [
    "# Kor 2 & 5 (W9)"
   ]
  },
  {
   "cell_type": "code",
   "execution_count": 32,
   "metadata": {},
   "outputs": [
    {
     "name": "stdout",
     "output_type": "stream",
     "text": [
      "before: [30000.0, 32000.0, 34000.0]\n",
      "after: [35600.0, 37960.0, 40360.0]\n"
     ]
    }
   ],
   "source": [
    "def new_stipend(sti, rate, bonus):\n",
    "    new_sti = []\n",
    "    for i in range(3):\n",
    "        salary = (sti[i] *(1 + (rate[i] / 100))) + bonus\n",
    "        new_sti.append(salary)\n",
    "    return new_sti\n",
    "def main():\n",
    "    stipend = \"30000, 32000, 34000\"\n",
    "    rate = \"2, 3, 4\"\n",
    "    stipend = [float(i) for i in stipend.split(\", \")]\n",
    "    rate = [float(i) for i in rate.split(\", \")]\n",
    "    bonus = 5000\n",
    "    output = new_stipend(stipend, rate, bonus)\n",
    "    print(\"before:\", stipend)\n",
    "    print(\"after:\", output)\n",
    "main()"
   ]
  },
  {
   "attachments": {},
   "cell_type": "markdown",
   "metadata": {},
   "source": [
    "# Kor 3 (W9)"
   ]
  },
  {
   "cell_type": "code",
   "execution_count": 33,
   "metadata": {},
   "outputs": [
    {
     "name": "stdout",
     "output_type": "stream",
     "text": [
      "78.5\n",
      "31.400000000000002\n"
     ]
    }
   ],
   "source": [
    "def cal_area(rad):\n",
    "    return 3.14 * (rad ** 2)\n",
    "def cal_circumference(rad):\n",
    "    return 2 * 3.14 * rad\n",
    "def main():\n",
    "    rad = 5\n",
    "    area = cal_area(rad)\n",
    "    circum = cal_circumference(rad)\n",
    "    print(area)\n",
    "    print(circum)\n",
    "main()"
   ]
  },
  {
   "attachments": {},
   "cell_type": "markdown",
   "metadata": {},
   "source": [
    "# Kor 4 (W9)"
   ]
  },
  {
   "cell_type": "code",
   "execution_count": 36,
   "metadata": {},
   "outputs": [
    {
     "name": "stdout",
     "output_type": "stream",
     "text": [
      "3 5 7 11 13 17 19 23 29 31 37 41 43 47 "
     ]
    }
   ],
   "source": [
    "def is_prime(nom):\n",
    "    for i in range(2, nom + 1):\n",
    "        check = True\n",
    "        for j in range(i):\n",
    "            if j >= 2 and (i % j) == 0:\n",
    "                check = False\n",
    "                break\n",
    "        if check and i != 2:\n",
    "            print(i, end=\" \")\n",
    "def main():\n",
    "    num = 49\n",
    "    is_prime(num)\n",
    "main()"
   ]
  },
  {
   "attachments": {},
   "cell_type": "markdown",
   "metadata": {},
   "source": [
    "# Kor 2 (W11)"
   ]
  },
  {
   "cell_type": "code",
   "execution_count": 2,
   "metadata": {},
   "outputs": [],
   "source": [
    "class Rectangle:\n",
    "    def __init__(self, width, height):\n",
    "        self.width = width\n",
    "        self.height = height\n",
    "        self.area = self.calArea()\n",
    "        self.perimeter = self.calPerimeter()\n",
    "    def calArea(self):\n",
    "        return self.width * self.height\n",
    "    def calPerimeter(self):\n",
    "        return (self.width * 2) + (self.height * 2)\n",
    "    def __lt__(self, another):\n",
    "        return self.area < another.area\n",
    "    def __str__(self):\n",
    "        line = \"Object: Rectangle\\n\"\n",
    "        line += f\"Width: {self.width:.2f} cm\\n\"\n",
    "        line += f\"Height: {self.height:.2f} cm\\n\"\n",
    "        line += f\"Area: {self.area:.2f} cm\\n\"\n",
    "        line += f\"Perimeter: {self.perimeter:.2f} cm\"\n",
    "        return line"
   ]
  },
  {
   "cell_type": "code",
   "execution_count": 3,
   "metadata": {},
   "outputs": [
    {
     "name": "stdout",
     "output_type": "stream",
     "text": [
      "Object: Rectangle\n",
      "Width: 8.20 cm\n",
      "Height: 3.50 cm\n",
      "Area: 28.70 cm\n",
      "Perimeter: 23.40 cm\n",
      "--------------------\n",
      "Object: Rectangle\n",
      "Width: 6.34 cm\n",
      "Height: 2.87 cm\n",
      "Area: 18.20 cm\n",
      "Perimeter: 18.42 cm\n",
      "--------------------\n",
      "False\n"
     ]
    }
   ],
   "source": [
    "rec_1 = Rectangle(8.2, 3.5)\n",
    "rec_2 = Rectangle(6.34, 2.87)\n",
    "print(rec_1)\n",
    "print(\"--------------------\")\n",
    "print(rec_2)\n",
    "print(\"--------------------\")\n",
    "print(rec_1 < rec_2)"
   ]
  }
 ],
 "metadata": {
  "kernelspec": {
   "display_name": "Python 3",
   "language": "python",
   "name": "python3"
  },
  "language_info": {
   "codemirror_mode": {
    "name": "ipython",
    "version": 3
   },
   "file_extension": ".py",
   "mimetype": "text/x-python",
   "name": "python",
   "nbconvert_exporter": "python",
   "pygments_lexer": "ipython3",
   "version": "3.10.8"
  },
  "orig_nbformat": 4
 },
 "nbformat": 4,
 "nbformat_minor": 2
}
