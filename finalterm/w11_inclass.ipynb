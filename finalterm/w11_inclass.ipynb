{
 "cells": [
  {
   "attachments": {},
   "cell_type": "markdown",
   "metadata": {},
   "source": [
    "# WEEK 11 in-class"
   ]
  },
  {
   "cell_type": "code",
   "execution_count": 1,
   "metadata": {},
   "outputs": [],
   "source": [
    "\"\"\"Exercise 1\"\"\"\n",
    "class Book:\n",
    "    \"\"\"take data book in bookstore\"\"\"\n",
    "    def __init__(self, title, author, price, keywords):\n",
    "        self.title = title\n",
    "        self.author = author\n",
    "        self.price = float(price)\n",
    "        self.keywords = set(keywords)\n",
    "    def __str__(self):\n",
    "        output = f'{self.title} by {self.author}\\n'\n",
    "        str_price = f'Price: {self.price:.2f} baht\\n'\n",
    "        str_keywords = f'Keywords: {sorted([x.capitalize() for x in self.keywords])}'\n",
    "        return output + str_price + str_keywords\n",
    "    def update_price(self, new_price):\n",
    "        self.price = new_price\n",
    "    def get_common_keywords(self, another):\n",
    "        return self.keywords.intersection(another.keywords)\n",
    "    def __lt__(self, another):\n",
    "        if self.price != another.price:\n",
    "            return self.price < another.price\n",
    "        elif self.price == another.price:\n",
    "            return self.title < another.title\n",
    "    def __repr__(self):\n",
    "        return self.title"
   ]
  },
  {
   "cell_type": "code",
   "execution_count": 2,
   "metadata": {},
   "outputs": [
    {
     "name": "stdout",
     "output_type": "stream",
     "text": [
      "Python Programming\n",
      "\n",
      "Python Programming by John Smith\n",
      "Price: 99.00 baht\n",
      "Keywords: ['Computer', 'Programming', 'Python']\n",
      "-----update price-----\n",
      "Python Programming by John Smith\n",
      "Price: 199.00 baht\n",
      "Keywords: ['Computer', 'Programming', 'Python']\n",
      "-----get common keywords-----\n",
      "{'python', 'programming'}\n",
      "{'python', 'programming'}\n",
      "set()\n",
      "set()\n",
      "-----lt-----\n",
      "True\n",
      "False\n"
     ]
    }
   ],
   "source": [
    "b_1 = Book('Python Programming', 'John Smith', 99, ['programming', 'computer', 'python'])\n",
    "b_2 = Book('The Statistics and Calculus with Python Workshop', 'Peter Farrell', 199, ['statistc', 'math', 'python', 'programming'])\n",
    "b_3 = Book('Harry Potter and the Chamber of Secrets', 'J.K. Rowling', 359.75, ['Science Fiction', 'Fantasy', 'Wizard'])\n",
    "\n",
    "print(b_1.title)\n",
    "print()\n",
    "print(b_1)\n",
    "print(\"-----update price-----\")\n",
    "b_1.update_price(199)\n",
    "print(b_1)\n",
    "print(\"-----get common keywords-----\")\n",
    "print(b_1.get_common_keywords(b_2))\n",
    "print(Book.get_common_keywords(b_1, b_2))\n",
    "print(b_1.get_common_keywords(b_3))\n",
    "print(Book.get_common_keywords(b_1, b_3))\n",
    "print(\"-----lt-----\")\n",
    "print(b_1 < b_2)    # เรียกใช้ __lt__\n",
    "print(b_3 < b_1)"
   ]
  },
  {
   "cell_type": "code",
   "execution_count": 41,
   "metadata": {},
   "outputs": [
    {
     "data": {
      "text/plain": [
       "199"
      ]
     },
     "execution_count": 41,
     "metadata": {},
     "output_type": "execute_result"
    }
   ],
   "source": [
    "b_1.price"
   ]
  },
  {
   "cell_type": "code",
   "execution_count": 3,
   "metadata": {},
   "outputs": [],
   "source": [
    "\"\"\"Exercise 2\"\"\"\n",
    "class ShoppingCart:\n",
    "    def __init__(self, id):\n",
    "        self.id = id\n",
    "        self.books = []\n",
    "    def add_book(self, book_obj, n):\n",
    "        count = True\n",
    "        for i in range(len(self.books)):\n",
    "            if self.books[i][0] == book_obj:\n",
    "                self.books[i][1] += n\n",
    "                count = False\n",
    "                break\n",
    "        if count:\n",
    "            self.books.append([book_obj, n])\n",
    "    def delete_book(self, book_obj):\n",
    "        for i in range(len(self.books)):\n",
    "            if self.books[i][0] == book_obj:\n",
    "                self.books.pop(i)\n",
    "                break\n",
    "    def get_total(self):\n",
    "        total = 0\n",
    "        for i in range(len(self.books)):\n",
    "            total += self.books[i][0].price * self.books[i][1]\n",
    "        return total"
   ]
  },
  {
   "cell_type": "code",
   "execution_count": 4,
   "metadata": {},
   "outputs": [
    {
     "name": "stdout",
     "output_type": "stream",
     "text": [
      "[]\n",
      "-----add book-----\n",
      "[[Python Programming, 2]]\n",
      "[[Python Programming, 5], [The Statistics and Calculus with Python Workshop, 2]]\n",
      "-----delete book-----\n",
      "[[The Statistics and Calculus with Python Workshop, 2]]\n",
      "[[The Statistics and Calculus with Python Workshop, 2]]\n",
      "[]\n",
      "-----get total-----\n",
      "[[Python Programming, 4], [Harry Potter and the Chamber of Secrets, 2]]\n",
      "1115.5\n"
     ]
    }
   ],
   "source": [
    "cart = ShoppingCart(1)\n",
    "print(cart.books)\n",
    "print(\"-----add book-----\")\n",
    "cart.add_book(b_1, 2)\n",
    "print(cart.books)\n",
    "cart.add_book(b_2, 2)\n",
    "cart.add_book(b_1, 3)\n",
    "print(cart.books)\n",
    "print(\"-----delete book-----\")\n",
    "cart.delete_book(b_1)\n",
    "print(cart.books)\n",
    "cart.delete_book(b_3)\n",
    "print(cart.books)\n",
    "cart.delete_book(b_2)\n",
    "print(cart.books)\n",
    "print(\"-----get total-----\")\n",
    "cart.add_book(b_1, 4)\n",
    "b_1.update_price(99)\n",
    "cart.add_book(b_3, 2)\n",
    "print(cart.books)\n",
    "print(cart.get_total())\n"
   ]
  }
 ],
 "metadata": {
  "kernelspec": {
   "display_name": "Python 3",
   "language": "python",
   "name": "python3"
  },
  "language_info": {
   "codemirror_mode": {
    "name": "ipython",
    "version": 3
   },
   "file_extension": ".py",
   "mimetype": "text/x-python",
   "name": "python",
   "nbconvert_exporter": "python",
   "pygments_lexer": "ipython3",
   "version": "3.10.8"
  },
  "orig_nbformat": 4
 },
 "nbformat": 4,
 "nbformat_minor": 2
}
