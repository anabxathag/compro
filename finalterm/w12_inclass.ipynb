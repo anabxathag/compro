{
 "cells": [
  {
   "attachments": {},
   "cell_type": "markdown",
   "metadata": {},
   "source": [
    "# In-class Week 12"
   ]
  },
  {
   "cell_type": "code",
   "execution_count": 3,
   "metadata": {},
   "outputs": [],
   "source": [
    "import random\n",
    "class Books:\n",
    "    def __init__(self, title, isbn, author, publisher, price):\n",
    "        self.title = title\n",
    "        self.isbn = isbn\n",
    "        self.author = author\n",
    "        self.publisher = publisher\n",
    "        self.price = price\n",
    "        print(\"Successfuly created Books Object\")\n",
    "        \n",
    "    def __str__(self):\n",
    "        output = f'Title: {self.title}'\n",
    "        output += f'\\nISBN: {self.isbn}'\n",
    "        output += f'\\nAuthor: {self.author}'\n",
    "        output += f'\\nPublisher: {self.publisher}'\n",
    "        output += f'\\nPrice: ${self.price:.2f}'\n",
    "        return output\n",
    "    \n",
    "    def sample(self):\n",
    "        print(\"This is sample method of class Books.\")\n",
    "        \n",
    "    def CalShipping(self):\n",
    "        print(\"This is CalShipping method of class Books.\")\n",
    "\n",
    "class Ebook(Books):\n",
    "    def __init__(self, title, isbn, author, publisher, price , fiesiz, prinlen):\n",
    "        \"\"\"constructor method\"\"\"\n",
    "        Books.__init__(self, title, isbn, author, publisher, price)\n",
    "        self.fiesiz = fiesiz\n",
    "        self.prinlen = prinlen\n",
    "        self.curpag = 1\n",
    "        print(\"Successfuly created EBook Object\")\n",
    "        \n",
    "    def sample(self):\n",
    "        \"\"\"สุ่มเลขหน้าหนังสือ 10หน้าติดกัน\"\"\"\n",
    "        sam = random.randint(1, self.prinlen)\n",
    "        print(\"สุ่มได้หน้าดังนี้ : \", end=\"\")\n",
    "        liz = []\n",
    "        if sam > self.prinlen - 10:\n",
    "            for i in range(sam - 10, sam):\n",
    "                liz.append(i)\n",
    "        else:\n",
    "            for i in range(sam, sam + 10):\n",
    "                liz.append(i)\n",
    "        print(liz)\n",
    "        \n",
    "    def CalShipping(self):\n",
    "        \"\"\"คำนวณค่าหนังสือ\"\"\"\n",
    "        if self.fiesiz >= 100:\n",
    "            print(\"ค่าส่งหนังสือ = $%.2f\" %((self.fiesiz * 0.25) + 20))\n",
    "        elif self.fiesiz < 100:\n",
    "            print(\"ค่าส่งหนังสือ = $%.2f\" %(self.fiesiz * 0.1))\n",
    "        \n",
    "    def Goto(self, page):\n",
    "        \"\"\"คืนค่า True หรือ False จาก page\"\"\"\n",
    "        if 1 <= page <= self.prinlen:\n",
    "            self.curpag = page\n",
    "            return self.curpag\n",
    "        \n",
    "    def NextPage(self):\n",
    "        \"\"\"คืนค่าเลขหน้าถัดไป\"\"\"\n",
    "        page = self.curpag + 1\n",
    "        return page\n",
    "        \n",
    "    def PreviousPage(self):\n",
    "        \"\"\"คืนค่าเลขหน้าก่อนหน้า\"\"\"\n",
    "        page = self.curpag - 1\n",
    "        return page\n",
    "        \n",
    "    def __str__(self):\n",
    "        output = f'\\nFile size: {self.fiesiz} KB'\n",
    "        output += f'\\nPage length: {self.prinlen} pages'\n",
    "        output += f'\\nCurrent page: {self.curpag} page'\n",
    "        return Books.__str__(self) + output\n",
    "    \n",
    "class Paperback(Books):\n",
    "    def __init__(self, title, isbn, author, publisher, price, prinlen, dimen, weight):\n",
    "        \"\"\"constructor method\"\"\"\n",
    "        Books.__init__(self, title, isbn, author, publisher, price)\n",
    "        self.prinlen = prinlen\n",
    "        self.dimen = dimen\n",
    "        self.weight = weight\n",
    "        print(\"Successfuly created Paperback Object\")\n",
    "        \n",
    "    def sample(self):\n",
    "        \"\"\"สุ่มเลขหน้าหนังสือ 10หน้าติดกัน\"\"\"\n",
    "        sam = random.randint(1, self.prinlen)\n",
    "        print(\"สุ่มได้หน้าดังนี้ : \", end=\"\")\n",
    "        liz = []\n",
    "        if sam > self.prinlen - 10:\n",
    "            for i in range(sam - 10, sam):\n",
    "                liz.append(i)\n",
    "        else:\n",
    "            for i in range(sam, sam + 10):\n",
    "                liz.append(i)\n",
    "        print(liz)\n",
    "        \n",
    "    def CalShipping(self):\n",
    "        \"\"\"คำนวณค่าหนังสือ\"\"\"\n",
    "        if float(self.dimen[: self.dimen.find(\"x\")]) * float(self.dimen[self.dimen.find(\"x\") + 1 :]) >= 1000:\n",
    "            print(\"ค่าส่งหนังสือ = $%.2f\" %((self.weight * 0.25) + 20))\n",
    "        elif float(self.dimen[: self.dimen.find(\"x\")]) * float(self.dimen[self.dimen.find(\"x\") + 1 :]) < 1000:\n",
    "            print(\"ค่าส่งหนังสือ = $%.2f\" %(self.weight * 0.1))\n",
    "    \n",
    "    def __str__(self):\n",
    "        output = f'\\nPrint length: {self.prinlen} pages'\n",
    "        output += f'\\nDimension: {self.dimen} inches'\n",
    "        output += f'\\nWeight: {self.weight} pound'\n",
    "        return Books.__str__(self) + output\n",
    "\n",
    "class AudioBook(Books):\n",
    "    def __init__(self, title, isbn, author, publisher, price , lislen, narrator, fiesiz):\n",
    "        \"\"\"constructor method\"\"\"\n",
    "        Books.__init__(self, title, isbn, author, publisher, price)\n",
    "        self.lislen = lislen\n",
    "        self.narrator = narrator\n",
    "        self.fiesiz = fiesiz\n",
    "        self.curtim = (0,0)\n",
    "        self.minleng = int(lislen.split(\":\")[0])\n",
    "        self.secleng = int(lislen.split(\":\")[1])\n",
    "        print(\"Successfuly created AudioBook Object\")\n",
    "        \n",
    "    def sample(self):\n",
    "        \"\"\"สุ่มเลขช่วงเวลา2ช่วง ห่างกัน10วินาที\"\"\"\n",
    "        mm_1 = random.randint(0, self.minleng)\n",
    "        ss_1, mm_2, ss_2 = 0, 0, 0\n",
    "        if mm_1 == self.minleng:\n",
    "            ss_1 = random.randint(0, self.secleng)\n",
    "            if ss_1 >= self.secleng - 10:\n",
    "                ss_2 = ((ss_1 - 10) * (ss_1 - 10 >= 0)) + ((ss_1 + 50) * (ss_1 - 10 < 0))\n",
    "                mm_2 = (mm_1 * (ss_1 - 10 >= 0)) + ((mm_1 - 1) * (ss_1 - 10 < 0))\n",
    "            elif ss_1 < self.secleng - 10:\n",
    "                ss_2 = ss_1 + 10\n",
    "                mm_2 = mm_1\n",
    "        elif mm_1 != self.minleng:\n",
    "            ss_1 = random.randint(0, 59)\n",
    "            ss_2 = ((ss_1 + 10) * (ss_1 + 10 <= 59)) + ((ss_1 - 50) * (ss_1 + 10 > 59))\n",
    "            mm_2 = (mm_1 * (ss_1 + 10 <= 59)) + ((mm_1 + 1) * (ss_1 + 10 > 59))\n",
    "        start_tm = f'{mm_1:02d}:{ss_1:02d}'\n",
    "        stop_tm = f'{mm_2:02d}:{ss_2:02d}'\n",
    "        return f\"สุ่มเวลาได้ => {start_tm} - {stop_tm}\"\n",
    "    \n",
    "    def CalShipping(self):\n",
    "        \"\"\"คำนวณค่าหนังสือ\"\"\"\n",
    "        if self.fiesiz >= 100:\n",
    "            return f\"ค่าส่งหนังสือ = ${((self.fiesiz * 0.25) + 20):.2f}\"\n",
    "        elif self.fiesiz < 100:\n",
    "            return f\"ค่าส่งหนังสือ = ${(self.fiesiz * 0.1):.2f}\"\n",
    "        \n",
    "    def Play(self, vinate):\n",
    "        \"\"\"เล่นตั้งแต่เวลาปจบ. ถึง เวลาที่ต้องการ\"\"\"\n",
    "        c_mm = self.curtim[0]\n",
    "        c_ss = self.curtim[1]\n",
    "        for i in range(vinate):\n",
    "            nate = c_mm\n",
    "            secto = c_ss\n",
    "            secto += i + 1\n",
    "            if secto > 59:\n",
    "                nate += 1 * (secto // 60)\n",
    "                secto -= 60 * (secto // 60)\n",
    "            if nate == self.minleng and secto > self.secleng:\n",
    "                break\n",
    "            self.curtim = list(self.curtim)\n",
    "            self.curtim[0] = nate\n",
    "            self.curtim[1] = secto\n",
    "            self.curtim = tuple(self.curtim)\n",
    "            output = f'{nate:02d}:{secto:02d}'\n",
    "            print(output)\n",
    "        \n",
    "    def __str__(self):\n",
    "        output = f'\\nListening length: {self.lislen}'\n",
    "        output += f'Narrator: {self.narrator}'\n",
    "        output += f'\\nFile size: {self.fiesiz} KB'\n",
    "        output += f'\\nCurrent time: {self.curtim[0]}:{self.curtim[1]}'\n",
    "        return Books.__str__(self) + output"
   ]
  },
  {
   "cell_type": "code",
   "execution_count": 85,
   "metadata": {},
   "outputs": [
    {
     "name": "stdout",
     "output_type": "stream",
     "text": [
      "Successfuly created Books Object\n",
      "Title: Done Chroniclwes, Book 1\n",
      "ISBN: 0441013579\n",
      "Author: Frank Herbert\n",
      "Publisher: Penguin Publishing Group\n",
      "Price: $12.00\n",
      "This is sample method of class Books.\n",
      "None\n",
      "This is CalShipping method of class Books.\n",
      "None\n"
     ]
    }
   ],
   "source": [
    "b_1 = Books('Done Chroniclwes, Book 1', '0441013579', 'Frank Herbert', 'Penguin Publishing Group', 12)\n",
    "print(b_1)\n",
    "print(b_1.sample())\n",
    "print(b_1.CalShipping())"
   ]
  },
  {
   "cell_type": "code",
   "execution_count": 86,
   "metadata": {},
   "outputs": [
    {
     "name": "stdout",
     "output_type": "stream",
     "text": [
      "Successfuly created Books Object\n",
      "Successfuly created EBook Object\n",
      "Title: Done Chroniclwes, Book 1\n",
      "ISBN: 0441013579\n",
      "Author: Frank Herbert\n",
      "Publisher: Penguin Publishing Group\n",
      "Price: $12.00\n",
      "File size: 5171 KB\n",
      "Page length: 890 pages\n",
      "Current page: 1 page\n"
     ]
    }
   ],
   "source": [
    "b_2 = Ebook('Done Chroniclwes, Book 1', '0441013579', 'Frank Herbert', 'Penguin Publishing Group', 12, 5171, 890)\n",
    "# print __init__() ให้อัตโนมัติ\n",
    "print(b_2)  # print __str__()"
   ]
  },
  {
   "cell_type": "code",
   "execution_count": 87,
   "metadata": {},
   "outputs": [
    {
     "name": "stdout",
     "output_type": "stream",
     "text": [
      "สุ่มได้หน้าดังนี้ : [582, 583, 584, 585, 586, 587, 588, 589, 590, 591]\n",
      "ค่าส่งหนังสือ = $1312.75\n"
     ]
    }
   ],
   "source": [
    "b_2.sample()\n",
    "b_2.CalShipping()"
   ]
  },
  {
   "cell_type": "code",
   "execution_count": 88,
   "metadata": {},
   "outputs": [
    {
     "name": "stdout",
     "output_type": "stream",
     "text": [
      "1\n",
      "380\n",
      "381\n",
      "379\n"
     ]
    }
   ],
   "source": [
    "print(b_2.curpag)\n",
    "b_2.Goto(380)\n",
    "print(b_2.curpag)\n",
    "print(b_2.NextPage())\n",
    "print(b_2.PreviousPage())"
   ]
  },
  {
   "cell_type": "code",
   "execution_count": 89,
   "metadata": {},
   "outputs": [
    {
     "name": "stdout",
     "output_type": "stream",
     "text": [
      "Successfuly created Books Object\n",
      "Successfuly created Paperback Object\n",
      "Title: Done Chroniclwes, Book 1\n",
      "ISBN: 0441013579\n",
      "Author: Frank Herbert\n",
      "Publisher: Penguin Publishing Group\n",
      "Price: $12.00\n",
      "Print length: 896 pages\n",
      "Dimension: 4.19x7.5 inches\n",
      "Weight: 1 pound\n"
     ]
    }
   ],
   "source": [
    "b_3 = Paperback('Done Chroniclwes, Book 1', '0441013579', 'Frank Herbert', 'Penguin Publishing Group', 12, 896, '4.19x7.5', 1)\n",
    "print(b_3)"
   ]
  },
  {
   "cell_type": "code",
   "execution_count": 90,
   "metadata": {},
   "outputs": [
    {
     "name": "stdout",
     "output_type": "stream",
     "text": [
      "สุ่มได้หน้าดังนี้ : [613, 614, 615, 616, 617, 618, 619, 620, 621, 622]\n",
      "ค่าส่งหนังสือ = $0.10\n"
     ]
    }
   ],
   "source": [
    "b_3.sample()\n",
    "b_3.CalShipping()"
   ]
  },
  {
   "cell_type": "code",
   "execution_count": 4,
   "metadata": {},
   "outputs": [
    {
     "name": "stdout",
     "output_type": "stream",
     "text": [
      "Successfuly created Books Object\n",
      "Successfuly created AudioBook Object\n",
      "Title: Done Chroniclwes, Book 1\n",
      "ISBN: 0441013579\n",
      "Author: Frank Herbert\n",
      "Publisher: Penguin Publishing Group\n",
      "Price: $1.99\n",
      "Listening length: 21:02Narrator: Scott Brick and etc.\n",
      "File size: 5171 KB\n",
      "Current time: 0:0\n"
     ]
    }
   ],
   "source": [
    "b_4 = AudioBook('Done Chroniclwes, Book 1', '0441013579', 'Frank Herbert', 'Penguin Publishing Group', 1.99, '21:02', 'Scott Brick and etc.', 5171)\n",
    "print(b_4)"
   ]
  },
  {
   "cell_type": "code",
   "execution_count": 5,
   "metadata": {},
   "outputs": [
    {
     "name": "stdout",
     "output_type": "stream",
     "text": [
      "สุ่มเวลาได้ => 11:52 - 12:02\n",
      "ค่าส่งหนังสือ = $1312.75\n"
     ]
    }
   ],
   "source": [
    "print(b_4.sample())\n",
    "print(b_4.CalShipping())"
   ]
  },
  {
   "cell_type": "code",
   "execution_count": 6,
   "metadata": {},
   "outputs": [
    {
     "name": "stdout",
     "output_type": "stream",
     "text": [
      "(0, 0)\n",
      "00:01\n",
      "00:02\n",
      "00:03\n",
      "00:04\n",
      "00:05\n",
      "--------------------\n",
      "00:06\n",
      "00:07\n",
      "00:08\n",
      "00:09\n",
      "00:10\n",
      "00:11\n",
      "00:12\n",
      "00:13\n",
      "00:14\n",
      "00:15\n",
      "00:16\n",
      "00:17\n",
      "00:18\n",
      "00:19\n",
      "00:20\n",
      "00:21\n",
      "00:22\n",
      "00:23\n",
      "00:24\n",
      "00:25\n",
      "--------------------\n",
      "(0, 25)\n"
     ]
    }
   ],
   "source": [
    "print(b_4.curtim)\n",
    "b_4.Play(5)\n",
    "print(\"-\" * 20)\n",
    "b_4.Play(20)\n",
    "print(\"-\" * 20)\n",
    "print(b_4.curtim)"
   ]
  }
 ],
 "metadata": {
  "kernelspec": {
   "display_name": "Python 3",
   "language": "python",
   "name": "python3"
  },
  "language_info": {
   "codemirror_mode": {
    "name": "ipython",
    "version": 3
   },
   "file_extension": ".py",
   "mimetype": "text/x-python",
   "name": "python",
   "nbconvert_exporter": "python",
   "pygments_lexer": "ipython3",
   "version": "3.10.8"
  },
  "orig_nbformat": 4,
  "vscode": {
   "interpreter": {
    "hash": "d26ad3bfedc465a77add67f487fe9e5dd0d7c02b4e328c221a0d21eec9a3898a"
   }
  }
 },
 "nbformat": 4,
 "nbformat_minor": 2
}
