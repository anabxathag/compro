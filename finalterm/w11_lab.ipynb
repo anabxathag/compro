{
 "cells": [
  {
   "attachments": {},
   "cell_type": "markdown",
   "metadata": {},
   "source": [
    "# Lab Week 11"
   ]
  },
  {
   "attachments": {},
   "cell_type": "markdown",
   "metadata": {},
   "source": [
    "Exercise 1"
   ]
  },
  {
   "cell_type": "code",
   "execution_count": 2,
   "metadata": {},
   "outputs": [],
   "source": [
    "class Triangle:\n",
    "    def __init__(self, sidelength):\n",
    "        self.sidelength = float(sidelength)\n",
    "        self.area = self.calArea()\n",
    "        self.perimeter = self.calPerimeter()\n",
    "    def calArea(self):\n",
    "        return ((3 ** 0.5) / 4) * (self.sidelength ** 2)\n",
    "    def calPerimeter(self):\n",
    "        return 3 * self.sidelength\n",
    "    def __str__(self):\n",
    "        line1 = \"Object: Equilateral triangle\\n\"\n",
    "        line22 = f'Side Lenght: {self.sidelength:.2f} cm\\n'\n",
    "        line333 = f'Area: {self.area:.2f} cm\\u00B2\\n'\n",
    "        line4444 = f'Perimeter: {self.perimeter:.2f} cm'\n",
    "        return line1 + line22 + line333 +line4444\n",
    "    def __lt__(self, trian1):\n",
    "        return self.area < trian1.area"
   ]
  },
  {
   "cell_type": "code",
   "execution_count": 3,
   "metadata": {},
   "outputs": [
    {
     "name": "stdout",
     "output_type": "stream",
     "text": [
      "Object: Equilateral triangle\n",
      "Side Lenght: 2.00 cm\n",
      "Area: 1.73 cm²\n",
      "Perimeter: 6.00 cm\n",
      "--------------------\n",
      "Object: Equilateral triangle\n",
      "Side Lenght: 3.45 cm\n",
      "Area: 5.15 cm²\n",
      "Perimeter: 10.35 cm\n",
      "--------------------\n",
      "True\n"
     ]
    }
   ],
   "source": [
    "obj1 = Triangle(2)\n",
    "obj2 = Triangle(3.45)\n",
    "print(obj1)\n",
    "print(\"--------------------\")\n",
    "print(obj2)\n",
    "print(\"--------------------\")\n",
    "print(obj1 < obj2)"
   ]
  },
  {
   "attachments": {},
   "cell_type": "markdown",
   "metadata": {},
   "source": [
    "Exercise 2"
   ]
  },
  {
   "cell_type": "code",
   "execution_count": 4,
   "metadata": {},
   "outputs": [],
   "source": [
    "class Rectangle:\n",
    "    def __init__(self, width, height):\n",
    "        self.width = float(width)\n",
    "        self.height = float(height)\n",
    "        self.area = self.calArea()\n",
    "        self.perimeter = self.calPerimeter()\n",
    "    def calArea(self):\n",
    "        return self.width * self.height\n",
    "    def calPerimeter(self):\n",
    "        return (self.width + self.height) * 2\n",
    "    def __str__(self):\n",
    "        line1 = \"Object: Rectangle\\n\"\n",
    "        line22 = f'Width: {self.width:.2f} cm\\n'\n",
    "        line333 = f'Height: {self.height:.2f} cm\\n'\n",
    "        line4444 = f'Area: {self.area:.2f} cm\\u00B2\\n'\n",
    "        line55555 = f'Perimeter: {self.perimeter:.2f} cm'\n",
    "        return line1 + line22 + line333 +line4444 + line55555\n",
    "    def __lt__(self, rectan1):\n",
    "        return self.area < rectan1.area"
   ]
  },
  {
   "cell_type": "code",
   "execution_count": 5,
   "metadata": {},
   "outputs": [
    {
     "name": "stdout",
     "output_type": "stream",
     "text": [
      "Object: Rectangle\n",
      "Width: 8.20 cm\n",
      "Height: 3.50 cm\n",
      "Area: 28.70 cm²\n",
      "Perimeter: 23.40 cm\n",
      "--------------------\n",
      "Object: Rectangle\n",
      "Width: 6.34 cm\n",
      "Height: 2.87 cm\n",
      "Area: 18.20 cm²\n",
      "Perimeter: 18.42 cm\n",
      "--------------------\n",
      "False\n"
     ]
    }
   ],
   "source": [
    "rec_1 = Rectangle(8.2, 3.5)\n",
    "rec_2 = Rectangle(6.34, 2.87)\n",
    "print(rec_1)\n",
    "print(\"--------------------\")\n",
    "print(rec_2)\n",
    "print(\"--------------------\")\n",
    "print(rec_1 < rec_2)"
   ]
  },
  {
   "attachments": {},
   "cell_type": "markdown",
   "metadata": {},
   "source": [
    "Exercise 3"
   ]
  },
  {
   "cell_type": "code",
   "execution_count": 6,
   "metadata": {},
   "outputs": [],
   "source": [
    "class Circle:\n",
    "    def __init__(self, radius):\n",
    "        self.radius = float(radius)\n",
    "        self.diameter = self.calDiameter()\n",
    "        self.area = self.calArea()\n",
    "        self.perimeter = self.calPerimeter()\n",
    "    def calDiameter(self):\n",
    "        return self.radius * 2\n",
    "    def calArea(self):\n",
    "        return (self.radius ** 2) * (22 / 7)\n",
    "    def calPerimeter(self):\n",
    "        return self.radius * (22 / 7) * 2\n",
    "    def __str__(self):\n",
    "        line1 = \"Object: Circle\\n\"\n",
    "        line22 = f'Radius: {self.radius:.2f} cm\\n'\n",
    "        line333 = f'Diameter: {self.diameter:.2f} cm\\n'\n",
    "        line4444 = f'Area: {self.area:.2f} cm\\u00B2\\n'\n",
    "        line55555 = f'Perimeter: {self.perimeter:.2f} cm'\n",
    "        return line1 + line22 + line333 +line4444 + line55555\n",
    "    def __lt__(self, cir1):\n",
    "        return self.area < cir1.area"
   ]
  },
  {
   "cell_type": "code",
   "execution_count": 7,
   "metadata": {},
   "outputs": [
    {
     "name": "stdout",
     "output_type": "stream",
     "text": [
      "Object: Circle\n",
      "Radius: 0.45 cm\n",
      "Diameter: 0.90 cm\n",
      "Area: 0.64 cm²\n",
      "Perimeter: 2.83 cm\n",
      "--------------------\n",
      "Object: Circle\n",
      "Radius: 2.64 cm\n",
      "Diameter: 5.28 cm\n",
      "Area: 21.90 cm²\n",
      "Perimeter: 16.59 cm\n",
      "--------------------\n",
      "True\n"
     ]
    }
   ],
   "source": [
    "cir_1 = Circle(0.45)\n",
    "cir_2 = Circle(2.64)\n",
    "print(cir_1)\n",
    "print(\"--------------------\")\n",
    "print(cir_2)\n",
    "print(\"--------------------\")\n",
    "print(cir_1 < cir_2)"
   ]
  },
  {
   "attachments": {},
   "cell_type": "markdown",
   "metadata": {},
   "source": [
    "Exercise 4"
   ]
  },
  {
   "cell_type": "code",
   "execution_count": 55,
   "metadata": {},
   "outputs": [],
   "source": [
    "class Television:\n",
    "    def __init__(self, model, subscription):\n",
    "        self.model = model\n",
    "        self.subscription = self.addSupscription(subscription)\n",
    "        self.status = False\n",
    "        self.volume = 50\n",
    "        self.currentChannel = 3\n",
    "    def addSupscription(self, subscription):\n",
    "        subscription.sort()\n",
    "        liz = []\n",
    "        for i in subscription:\n",
    "            if i not in liz:\n",
    "                liz.append(i)\n",
    "        new_sub = {3: \"Channel 3\", 5: \"Channel 5\", 7: \"Channel 7\", 9: \"Channel 9\"}\n",
    "        for i in range(1, len(liz) + 1):\n",
    "            new_sub[9 + i] = liz[i - 1]\n",
    "        return new_sub\n",
    "    def turnOn(self):\n",
    "        line1 = \"\"\n",
    "        line22 = \"\\n----------------------------------------\"\n",
    "        if self.status == False:\n",
    "            self.status = True\n",
    "            line1 = \"Status: ON\"\n",
    "        elif self.status == True:\n",
    "            line1 = \"The TV is already turn on.\"\n",
    "        print(line1 + line22)\n",
    "    def turnOff(self):\n",
    "        line1 = \"\"\n",
    "        line22 = \"\\n----------------------------------------\"\n",
    "        if self.status == True:\n",
    "            self.status = False\n",
    "            line1 = \"Status: OFF\"\n",
    "        elif self.status == False:\n",
    "            line1 = \"The TV is already turn off.\"\n",
    "        print(line1 + line22)\n",
    "    def changeChannel(self, newChannel):\n",
    "        line1 = \"\"\n",
    "        line22 = \"\"\n",
    "        line333 = \"\\n----------------------------------------\"\n",
    "        if self.status == False:\n",
    "            line1 = \"Change chanel unsuccessful: The TV is turn off\"\n",
    "        elif self.status == True:\n",
    "            check = False\n",
    "            for i in self.subscription.keys():\n",
    "                if i == newChannel:\n",
    "                    check = True\n",
    "                    self.currentChannel = newChannel\n",
    "                    break\n",
    "            if check == False:\n",
    "                line1 = \"Change chanel unsuccessful: Unavailable channel\"\n",
    "            elif check == True:\n",
    "                line1 = \"Change chanel successful\"\n",
    "            line22 = f'\\nCurrent channel: ({self.currentChannel}) {self.subscription[self.currentChannel]}'\n",
    "        print(line1 + line22 + line333)\n",
    "    def volumeUP(self, units):\n",
    "        line1 = \"\"\n",
    "        line22 = \"\\n----------------------------------------\"\n",
    "        if self.status == False:\n",
    "            line1 = \"Up volume unsuccessful: The TV is turn off\"\n",
    "        elif self.status == True:\n",
    "            if self.volume == 100:\n",
    "                line1 = \"MAXIMUM VOLUME\"\n",
    "            else:\n",
    "                self.volume += units\n",
    "                if self.volume > 100:\n",
    "                    self.volume = 100\n",
    "                line1 = f\"Volume: {self.volume}\"\n",
    "        print(line1 + line22)\n",
    "    def volumeDOWN(self, units):\n",
    "        line1 = \"\"\n",
    "        line22 = \"\\n----------------------------------------\"\n",
    "        if self.status == False:\n",
    "            line1 = \"Down volume unsuccessful: The TV is turn off\"\n",
    "        elif self.status == True:\n",
    "            if self.volume == 0:\n",
    "                line1 = \"MINIMUM VOLUME\"\n",
    "            else:\n",
    "                self.volume -= units\n",
    "                if self.volume < 0:\n",
    "                    self.volume = 0\n",
    "                line1 = f\"Volume: {self.volume}\"\n",
    "        print(line1 + line22)\n",
    "    def __str__(self):\n",
    "        line1 = f\"Model: {self.model}\\n\"\n",
    "        line22 = \"Subscription: [\"\n",
    "        for i, j in self.subscription.items():\n",
    "            line22 += f\"{i}: {j}, \"\n",
    "        line22 = line22[:-2] + \"]\"\n",
    "        line333 = \"\\nStatus: -\"\n",
    "        line444 = \"\"\n",
    "        line55 = \"\"\n",
    "        line6 = \"\\n----------------------------------------\"\n",
    "        if self.status == False:\n",
    "            line333 = \"\\nStatus: OFF\"\n",
    "        elif self.status == True:\n",
    "            line333 = \"\\nStatus: ON\"\n",
    "            line444 = f\"\\nvolume: {self.volume}\"\n",
    "            line55 = f\"\\nCurrent channel: ({self.currentChannel}) {self.subscription[self.currentChannel]}\"\n",
    "        return line1 + line22 + line333 + line444 + line55 + line6"
   ]
  },
  {
   "cell_type": "code",
   "execution_count": 56,
   "metadata": {},
   "outputs": [
    {
     "name": "stdout",
     "output_type": "stream",
     "text": [
      "Model: LG XO3QBE.DTHALLK\n",
      "Subscription: [3: Channel 3, 5: Channel 5, 7: Channel 7, 9: Channel 9, 10: Disney+, 11: HBO, 12: Netflix, 13: Viu, 14: Youtube]\n",
      "Status: OFF\n",
      "----------------------------------------\n",
      "Status: ON\n",
      "----------------------------------------\n",
      "Model: LG XO3QBE.DTHALLK\n",
      "Subscription: [3: Channel 3, 5: Channel 5, 7: Channel 7, 9: Channel 9, 10: Disney+, 11: HBO, 12: Netflix, 13: Viu, 14: Youtube]\n",
      "Status: ON\n",
      "volume: 50\n",
      "Current channel: (3) Channel 3\n",
      "----------------------------------------\n"
     ]
    }
   ],
   "source": [
    "# testcase-1\n",
    "tv1 = Television('LG XO3QBE.DTHALLK', ['Youtube', 'Netflix', 'Disney+', 'HBO', 'Viu', 'Netflix'])\n",
    "print(tv1)\n",
    "tv1.turnOn()\n",
    "print(tv1)"
   ]
  },
  {
   "cell_type": "code",
   "execution_count": 57,
   "metadata": {},
   "outputs": [
    {
     "name": "stdout",
     "output_type": "stream",
     "text": [
      "Status: OFF\n",
      "----------------------------------------\n",
      "The TV is already turn off.\n",
      "----------------------------------------\n",
      "Status: ON\n",
      "----------------------------------------\n",
      "The TV is already turn on.\n",
      "----------------------------------------\n"
     ]
    }
   ],
   "source": [
    "# testcase-2\n",
    "tv1.turnOff()\n",
    "tv1.turnOff()\n",
    "tv1.turnOn()\n",
    "tv1.turnOn()"
   ]
  },
  {
   "cell_type": "code",
   "execution_count": 58,
   "metadata": {},
   "outputs": [
    {
     "name": "stdout",
     "output_type": "stream",
     "text": [
      "Status: OFF\n",
      "----------------------------------------\n",
      "Change chanel unsuccessful: The TV is turn off\n",
      "----------------------------------------\n",
      "Status: ON\n",
      "----------------------------------------\n",
      "Change chanel unsuccessful: Unavailable channel\n",
      "Current channel: (3) Channel 3\n",
      "----------------------------------------\n",
      "Change chanel successful\n",
      "Current channel: (10) Disney+\n",
      "----------------------------------------\n"
     ]
    }
   ],
   "source": [
    "# testcase-3\n",
    "tv1.turnOff()\n",
    "tv1.changeChannel(1)\n",
    "tv1.turnOn()\n",
    "tv1.changeChannel(1)\n",
    "tv1.changeChannel(10)"
   ]
  },
  {
   "cell_type": "code",
   "execution_count": 59,
   "metadata": {},
   "outputs": [
    {
     "name": "stdout",
     "output_type": "stream",
     "text": [
      "Model: LG XO3QBE.DTHALLK\n",
      "Subscription: [3: Channel 3, 5: Channel 5, 7: Channel 7, 9: Channel 9, 10: Disney+, 11: HBO, 12: Netflix, 13: Viu, 14: Youtube]\n",
      "Status: ON\n",
      "volume: 50\n",
      "Current channel: (10) Disney+\n",
      "----------------------------------------\n",
      "Volume: 60\n",
      "----------------------------------------\n",
      "Volume: 100\n",
      "----------------------------------------\n",
      "MAXIMUM VOLUME\n",
      "----------------------------------------\n",
      "Volume: 20\n",
      "----------------------------------------\n",
      "Volume: 0\n",
      "----------------------------------------\n",
      "MINIMUM VOLUME\n",
      "----------------------------------------\n",
      "Model: LG XO3QBE.DTHALLK\n",
      "Subscription: [3: Channel 3, 5: Channel 5, 7: Channel 7, 9: Channel 9, 10: Disney+, 11: HBO, 12: Netflix, 13: Viu, 14: Youtube]\n",
      "Status: ON\n",
      "volume: 0\n",
      "Current channel: (10) Disney+\n",
      "----------------------------------------\n"
     ]
    }
   ],
   "source": [
    "# testcase-4\n",
    "print(tv1)\n",
    "tv1.volumeUP(10)\n",
    "tv1.volumeUP(80)\n",
    "tv1.volumeUP(10)\n",
    "tv1.volumeDOWN(80)\n",
    "tv1.volumeDOWN(50)\n",
    "tv1.volumeDOWN(10)\n",
    "print(tv1)"
   ]
  },
  {
   "attachments": {},
   "cell_type": "markdown",
   "metadata": {},
   "source": [
    "Exercise 5"
   ]
  },
  {
   "cell_type": "code",
   "execution_count": 103,
   "metadata": {},
   "outputs": [],
   "source": [
    "class Mobile:\n",
    "    def __init__(self, model, resolution, battery, dataPlan):\n",
    "        self.model = model\n",
    "        self.resolution = resolution\n",
    "        self.battery = battery\n",
    "        self.dataPlan = dataPlan\n",
    "        self.remainBattery = battery\n",
    "        self.minUsed = 0\n",
    "        self.monthlyPayment = dataPlan[0]\n",
    "    def batteryConsumption(self, mins):\n",
    "        pixel = self.resolution[0] * self.resolution[1]\n",
    "        rateuse = 0\n",
    "        num = 0\n",
    "        if pixel <= (10 ** 6):\n",
    "            num = 1  \n",
    "        elif (10 ** 6) <= pixel <= (1.5 *(10 ** 6)):\n",
    "            num = 2\n",
    "        elif pixel >= (1.5 *(10 ** 6)):\n",
    "            num = 5\n",
    "        rateuse = num * mins\n",
    "        self.remainBattery -= rateuse\n",
    "        return num\n",
    "    def calPayment(self):\n",
    "        if self.minUsed > self.dataPlan[1]:\n",
    "            self.monthlyPayment += (self.minUsed - self.dataPlan[1]) * 0.5\n",
    "    def call(self, mins):\n",
    "        bottomline = \"\\n----------------------------------------\"\n",
    "        if self.remainBattery == 0:\n",
    "            print(\"Cannot make a call, please re-charge your mobile\" + bottomline)\n",
    "            return\n",
    "        else:\n",
    "            can_use = self.remainBattery / self.batteryConsumption(mins)\n",
    "            if mins > can_use:\n",
    "                mins = can_use\n",
    "            self.minUsed += mins\n",
    "            self.calPayment()\n",
    "            if self.remainBattery < 0:\n",
    "                self.remainBattery = 0.0\n",
    "            line1 = f\"Making a call for {mins} minutes\"\n",
    "            line22 = f\"\\nRemaining battery: {self.remainBattery} mAh ({((self.remainBattery / self.battery) * 100):.1f}%)\"\n",
    "            line33 = f\"\\nMinute-used: {self.minUsed} minutes\"\n",
    "            line4 = f\"\\nMonthly payment: {self.monthlyPayment} baht\"\n",
    "            print(line1 + line22 + line33 + line4 + bottomline)\n",
    "    def charge(self, mins):\n",
    "        self.remainBattery += (100 * mins)\n",
    "        if self.remainBattery > self.battery:\n",
    "            self.remainBattery = self.battery\n",
    "        line1 = f\"Charging ({mins} mins).....\"\n",
    "        line22 = f\"\\nRemaining battery: {self.remainBattery} mAh ({((self.remainBattery / self.battery) * 100):.1f}%)\"\n",
    "        bottomline = \"\\n----------------------------------------\"\n",
    "        print(line1 + line22 + bottomline)\n",
    "    def __str__(self):\n",
    "        line1 = f\"Model: {self.model}\"\n",
    "        line22 = f\"\\nResolution: {self.resolution[0]} x {self.resolution[1]}\"\n",
    "        line333 = f\"\\nBattery: {self.battery} mAh\"\n",
    "        line4444 = f\"\\nRemaining battery: {self.remainBattery} mAh ({((self.remainBattery / self.battery) * 100):.1f}%)\"\n",
    "        line5555 = f\"\\nData plan: {self.dataPlan[0]} baht/ {self.dataPlan[1]} minutes\"\n",
    "        line666 = f\"\\nMinute-used: {self.minUsed} minutes\"\n",
    "        line77 = f\"\\nMonthly payment: {self.monthlyPayment} baht\"\n",
    "        line8 = \"\\n----------------------------------------\"\n",
    "        return line1 + line22 + line333 + line4444 + line5555 + line666 + line77 + line8"
   ]
  },
  {
   "cell_type": "code",
   "execution_count": 104,
   "metadata": {},
   "outputs": [
    {
     "name": "stdout",
     "output_type": "stream",
     "text": [
      "Model: SAMSUNG GALAZY A54\n",
      "Resolution: 1000 x 2340\n",
      "Battery: 5000 mAh\n",
      "Remaining battery: 5000 mAh (100.0%)\n",
      "Data plan: 800 baht/ 1800 minutes\n",
      "Minute-used: 0 minutes\n",
      "Monthly payment: 800 baht\n",
      "----------------------------------------\n"
     ]
    }
   ],
   "source": [
    "# testcase-1\n",
    "mb1 = Mobile('SAMSUNG GALAZY A54', (1000, 2340), 5000, (800, 1800))\n",
    "print(mb1)"
   ]
  },
  {
   "cell_type": "code",
   "execution_count": 105,
   "metadata": {},
   "outputs": [
    {
     "name": "stdout",
     "output_type": "stream",
     "text": [
      "Making a call for 20 minutes\n",
      "Remaining battery: 4900 mAh (98.0%)\n",
      "Minute-used: 20 minutes\n",
      "Monthly payment: 800 baht\n",
      "----------------------------------------\n",
      "Making a call for 980.0 minutes\n",
      "Remaining battery: 0.0 mAh (0.0%)\n",
      "Minute-used: 1000.0 minutes\n",
      "Monthly payment: 800 baht\n",
      "----------------------------------------\n",
      "Cannot make a call, please re-charge your mobile\n",
      "----------------------------------------\n"
     ]
    }
   ],
   "source": [
    "# testcase-2\n",
    "mb1.call(20)\n",
    "mb1.call(1000)\n",
    "mb1.call(10)"
   ]
  },
  {
   "cell_type": "code",
   "execution_count": 106,
   "metadata": {},
   "outputs": [
    {
     "name": "stdout",
     "output_type": "stream",
     "text": [
      "Charging (45 mins).....\n",
      "Remaining battery: 4500.0 mAh (90.0%)\n",
      "----------------------------------------\n",
      "Charging (90 mins).....\n",
      "Remaining battery: 5000 mAh (100.0%)\n",
      "----------------------------------------\n",
      "Making a call for 1000 minutes\n",
      "Remaining battery: 0 mAh (0.0%)\n",
      "Minute-used: 2000.0 minutes\n",
      "Monthly payment: 900.0 baht\n",
      "----------------------------------------\n"
     ]
    }
   ],
   "source": [
    "# testcase-3\n",
    "mb1.charge(45)\n",
    "mb1.charge(90)\n",
    "mb1.call(1000)"
   ]
  }
 ],
 "metadata": {
  "kernelspec": {
   "display_name": "dsba_env",
   "language": "python",
   "name": "python3"
  },
  "language_info": {
   "codemirror_mode": {
    "name": "ipython",
    "version": 3
   },
   "file_extension": ".py",
   "mimetype": "text/x-python",
   "name": "python",
   "nbconvert_exporter": "python",
   "pygments_lexer": "ipython3",
   "version": "3.10.8"
  },
  "orig_nbformat": 4
 },
 "nbformat": 4,
 "nbformat_minor": 2
}
